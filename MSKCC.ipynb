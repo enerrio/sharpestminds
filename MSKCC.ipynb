{
 "cells": [
  {
   "cell_type": "markdown",
   "metadata": {},
   "source": [
    "# Personalized Medicine: Redefining Cancer Treatment\n",
    "\n",
    "# Preprocessing Stage\n",
    "---\n",
    "Import necessary libraries, load train/test data into pandas dataframes and visualize some examples"
   ]
  },
  {
   "cell_type": "code",
   "execution_count": 1,
   "metadata": {},
   "outputs": [
    {
     "name": "stdout",
     "output_type": "stream",
     "text": [
      "Pandas version: 0.20.3\n",
      "Numpy version: 1.13.3\n",
      "Seaborn version: 0.8.0\n",
      "Sci-kit Learn version: 0.19.0\n",
      "imblearn version:  0.3.0\n"
     ]
    }
   ],
   "source": [
    "import pandas as pd\n",
    "import numpy as np\n",
    "import matplotlib.pyplot as plt\n",
    "import seaborn as sns\n",
    "import random\n",
    "import pickle\n",
    "from time import time\n",
    "from IPython.display import display\n",
    "from sklearn.feature_extraction.stop_words import ENGLISH_STOP_WORDS as stopwords \n",
    "import string\n",
    "\n",
    "# Sci-kit Learn\n",
    "from sklearn.model_selection import train_test_split\n",
    "from sklearn.feature_extraction.text import CountVectorizer, TfidfTransformer\n",
    "from sklearn.naive_bayes import MultinomialNB\n",
    "from sklearn.ensemble import RandomForestClassifier\n",
    "from sklearn.pipeline import Pipeline\n",
    "from sklearn.model_selection import GridSearchCV\n",
    "from sklearn.preprocessing import label_binarize\n",
    "from sklearn.metrics import log_loss, classification_report, accuracy_score, confusion_matrix\n",
    "from sklearn import __version__\n",
    "\n",
    "# Imbalanced-learn\n",
    "from imblearn.over_sampling import SMOTE\n",
    "from imblearn.pipeline import Pipeline as imb_pipeline\n",
    "from imblearn import __version__ as imblearn_version\n",
    "\n",
    "# SpaCy\n",
    "import spacy\n",
    "\n",
    "# Keras\n",
    "from keras.models import Sequential, Model\n",
    "from keras.layers import Dense, Dropout, LSTM, Embedding, Bidirectional, Input, Flatten, Activation\n",
    "from keras.layers import Conv1D, MaxPooling1D, GlobalMaxPooling1D\n",
    "from keras.optimizers import SGD\n",
    "from keras.callbacks import ModelCheckpoint\n",
    "\n",
    "\n",
    "print('Pandas version: ' + pd.__version__)\n",
    "print('Numpy version: ' + np.__version__)\n",
    "print('Seaborn version: ' + sns.__version__)\n",
    "print('Sci-kit Learn version: ' + __version__)\n",
    "print('imblearn version: ', imblearn_version)\n",
    "sns.set_context('notebook')\n",
    "\n",
    "# Set random seed for reproducability where random module is used\n",
    "random.seed(21)\n",
    "np.random.seed(21)"
   ]
  },
  {
   "cell_type": "markdown",
   "metadata": {},
   "source": [
    "Download the English model for spacy. Otherwise error may occure when running `nlp = spacy.load('en')`"
   ]
  },
  {
   "cell_type": "code",
   "execution_count": null,
   "metadata": {},
   "outputs": [],
   "source": [
    "!python -m spacy download en"
   ]
  },
  {
   "cell_type": "markdown",
   "metadata": {},
   "source": [
    "## Load training/testing text\n",
    "---"
   ]
  },
  {
   "cell_type": "code",
   "execution_count": 2,
   "metadata": {
    "collapsed": true
   },
   "outputs": [],
   "source": [
    "# Load training and testing text\n",
    "text_train = pd.read_csv('training_text.txt', delimiter=\"\\|\\|\", skiprows=1,\n",
    "                          names=['ID', 'Text'], engine='python').set_index('ID')\n",
    "text_test = pd.read_csv('test_text.txt', delimiter='\\|\\|', skiprows=1,\n",
    "                         names=['ID', 'Text'], engine='python').set_index('ID')"
   ]
  },
  {
   "cell_type": "code",
   "execution_count": 3,
   "metadata": {},
   "outputs": [
    {
     "data": {
      "text/html": [
       "<div>\n",
       "<style>\n",
       "    .dataframe thead tr:only-child th {\n",
       "        text-align: right;\n",
       "    }\n",
       "\n",
       "    .dataframe thead th {\n",
       "        text-align: left;\n",
       "    }\n",
       "\n",
       "    .dataframe tbody tr th {\n",
       "        vertical-align: top;\n",
       "    }\n",
       "</style>\n",
       "<table border=\"1\" class=\"dataframe\">\n",
       "  <thead>\n",
       "    <tr style=\"text-align: right;\">\n",
       "      <th></th>\n",
       "      <th>Text</th>\n",
       "    </tr>\n",
       "    <tr>\n",
       "      <th>ID</th>\n",
       "      <th></th>\n",
       "    </tr>\n",
       "  </thead>\n",
       "  <tbody>\n",
       "    <tr>\n",
       "      <th>0</th>\n",
       "      <td>Cyclin-dependent kinases (CDKs) regulate a var...</td>\n",
       "    </tr>\n",
       "    <tr>\n",
       "      <th>1</th>\n",
       "      <td>Abstract Background  Non-small cell lung canc...</td>\n",
       "    </tr>\n",
       "    <tr>\n",
       "      <th>2</th>\n",
       "      <td>Abstract Background  Non-small cell lung canc...</td>\n",
       "    </tr>\n",
       "    <tr>\n",
       "      <th>3</th>\n",
       "      <td>Recent evidence has demonstrated that acquired...</td>\n",
       "    </tr>\n",
       "    <tr>\n",
       "      <th>4</th>\n",
       "      <td>Oncogenic mutations in the monomeric Casitas B...</td>\n",
       "    </tr>\n",
       "  </tbody>\n",
       "</table>\n",
       "</div>"
      ],
      "text/plain": [
       "                                                 Text\n",
       "ID                                                   \n",
       "0   Cyclin-dependent kinases (CDKs) regulate a var...\n",
       "1    Abstract Background  Non-small cell lung canc...\n",
       "2    Abstract Background  Non-small cell lung canc...\n",
       "3   Recent evidence has demonstrated that acquired...\n",
       "4   Oncogenic mutations in the monomeric Casitas B..."
      ]
     },
     "metadata": {},
     "output_type": "display_data"
    },
    {
     "name": "stdout",
     "output_type": "stream",
     "text": [
      "Size of training set: (3321, 1)\n"
     ]
    },
    {
     "data": {
      "text/html": [
       "<div>\n",
       "<style>\n",
       "    .dataframe thead tr:only-child th {\n",
       "        text-align: right;\n",
       "    }\n",
       "\n",
       "    .dataframe thead th {\n",
       "        text-align: left;\n",
       "    }\n",
       "\n",
       "    .dataframe tbody tr th {\n",
       "        vertical-align: top;\n",
       "    }\n",
       "</style>\n",
       "<table border=\"1\" class=\"dataframe\">\n",
       "  <thead>\n",
       "    <tr style=\"text-align: right;\">\n",
       "      <th></th>\n",
       "      <th>Text</th>\n",
       "    </tr>\n",
       "    <tr>\n",
       "      <th>ID</th>\n",
       "      <th></th>\n",
       "    </tr>\n",
       "  </thead>\n",
       "  <tbody>\n",
       "    <tr>\n",
       "      <th>0</th>\n",
       "      <td>2. This mutation resulted in a myeloproliferat...</td>\n",
       "    </tr>\n",
       "    <tr>\n",
       "      <th>1</th>\n",
       "      <td>Abstract The Large Tumor Suppressor 1 (LATS1)...</td>\n",
       "    </tr>\n",
       "    <tr>\n",
       "      <th>2</th>\n",
       "      <td>Vascular endothelial growth factor receptor (V...</td>\n",
       "    </tr>\n",
       "    <tr>\n",
       "      <th>3</th>\n",
       "      <td>Inflammatory myofibroblastic tumor (IMT) is a ...</td>\n",
       "    </tr>\n",
       "    <tr>\n",
       "      <th>4</th>\n",
       "      <td>Abstract Retinoblastoma is a pediatric retina...</td>\n",
       "    </tr>\n",
       "  </tbody>\n",
       "</table>\n",
       "</div>"
      ],
      "text/plain": [
       "                                                 Text\n",
       "ID                                                   \n",
       "0   2. This mutation resulted in a myeloproliferat...\n",
       "1    Abstract The Large Tumor Suppressor 1 (LATS1)...\n",
       "2   Vascular endothelial growth factor receptor (V...\n",
       "3   Inflammatory myofibroblastic tumor (IMT) is a ...\n",
       "4    Abstract Retinoblastoma is a pediatric retina..."
      ]
     },
     "metadata": {},
     "output_type": "display_data"
    },
    {
     "name": "stdout",
     "output_type": "stream",
     "text": [
      "Size of test set: (5668, 1)\n"
     ]
    }
   ],
   "source": [
    "# Display the first few examples\n",
    "display(text_train.head())\n",
    "print('Size of training set:', text_train.shape)\n",
    "display(text_test.head())\n",
    "print('Size of test set:', text_test.shape)"
   ]
  },
  {
   "cell_type": "code",
   "execution_count": 4,
   "metadata": {},
   "outputs": [
    {
     "name": "stdout",
     "output_type": "stream",
     "text": [
      "                                                     Text\n",
      "count                                                3321\n",
      "unique                                               1921\n",
      "top     The PTEN (phosphatase and tensin homolog) phos...\n",
      "freq                                                   53\n",
      "<class 'pandas.core.frame.DataFrame'>\n",
      "Int64Index: 3321 entries, 0 to 3320\n",
      "Data columns (total 1 columns):\n",
      "Text    3321 non-null object\n",
      "dtypes: object(1)\n",
      "memory usage: 51.9+ KB\n",
      "None\n",
      "\n",
      "                                                      Text\n",
      "count                                                5668\n",
      "unique                                               5611\n",
      "top     Mutations in BRCA1 and BRCA2 account for the m...\n",
      "freq                                                    6\n",
      "<class 'pandas.core.frame.DataFrame'>\n",
      "Int64Index: 5668 entries, 0 to 5667\n",
      "Data columns (total 1 columns):\n",
      "Text    5668 non-null object\n",
      "dtypes: object(1)\n",
      "memory usage: 88.6+ KB\n",
      "None\n"
     ]
    }
   ],
   "source": [
    "print(text_train.describe())\n",
    "print(text_train.info())\n",
    "print('\\n', text_test.describe())\n",
    "print(text_test.info())"
   ]
  },
  {
   "cell_type": "markdown",
   "metadata": {},
   "source": [
    "## Load training/testing labels\n",
    "---"
   ]
  },
  {
   "cell_type": "code",
   "execution_count": 3,
   "metadata": {
    "collapsed": true
   },
   "outputs": [],
   "source": [
    "# Load training and testing labels\n",
    "\n",
    "variants_train = pd.read_csv('training_variants.txt', skiprows=1,\n",
    "                          names=['ID', 'Gene', 'Variation', 'Class'], engine='python').set_index('ID')\n",
    "variants_test = pd.read_csv('test_variants.txt', skiprows=1,\n",
    "                          names=['ID', 'Gene', 'Variation'], engine='python').set_index('ID')"
   ]
  },
  {
   "cell_type": "code",
   "execution_count": 8,
   "metadata": {},
   "outputs": [
    {
     "data": {
      "text/html": [
       "<div>\n",
       "<style>\n",
       "    .dataframe thead tr:only-child th {\n",
       "        text-align: right;\n",
       "    }\n",
       "\n",
       "    .dataframe thead th {\n",
       "        text-align: left;\n",
       "    }\n",
       "\n",
       "    .dataframe tbody tr th {\n",
       "        vertical-align: top;\n",
       "    }\n",
       "</style>\n",
       "<table border=\"1\" class=\"dataframe\">\n",
       "  <thead>\n",
       "    <tr style=\"text-align: right;\">\n",
       "      <th></th>\n",
       "      <th>Gene</th>\n",
       "      <th>Variation</th>\n",
       "      <th>Class</th>\n",
       "    </tr>\n",
       "    <tr>\n",
       "      <th>ID</th>\n",
       "      <th></th>\n",
       "      <th></th>\n",
       "      <th></th>\n",
       "    </tr>\n",
       "  </thead>\n",
       "  <tbody>\n",
       "    <tr>\n",
       "      <th>0</th>\n",
       "      <td>FAM58A</td>\n",
       "      <td>Truncating Mutations</td>\n",
       "      <td>1</td>\n",
       "    </tr>\n",
       "    <tr>\n",
       "      <th>1</th>\n",
       "      <td>CBL</td>\n",
       "      <td>W802*</td>\n",
       "      <td>2</td>\n",
       "    </tr>\n",
       "    <tr>\n",
       "      <th>2</th>\n",
       "      <td>CBL</td>\n",
       "      <td>Q249E</td>\n",
       "      <td>2</td>\n",
       "    </tr>\n",
       "    <tr>\n",
       "      <th>3</th>\n",
       "      <td>CBL</td>\n",
       "      <td>N454D</td>\n",
       "      <td>3</td>\n",
       "    </tr>\n",
       "    <tr>\n",
       "      <th>4</th>\n",
       "      <td>CBL</td>\n",
       "      <td>L399V</td>\n",
       "      <td>4</td>\n",
       "    </tr>\n",
       "  </tbody>\n",
       "</table>\n",
       "</div>"
      ],
      "text/plain": [
       "      Gene             Variation  Class\n",
       "ID                                     \n",
       "0   FAM58A  Truncating Mutations      1\n",
       "1      CBL                 W802*      2\n",
       "2      CBL                 Q249E      2\n",
       "3      CBL                 N454D      3\n",
       "4      CBL                 L399V      4"
      ]
     },
     "metadata": {},
     "output_type": "display_data"
    },
    {
     "name": "stdout",
     "output_type": "stream",
     "text": [
      "Size of training variants set: (3321, 3)\n"
     ]
    },
    {
     "data": {
      "text/html": [
       "<div>\n",
       "<style>\n",
       "    .dataframe thead tr:only-child th {\n",
       "        text-align: right;\n",
       "    }\n",
       "\n",
       "    .dataframe thead th {\n",
       "        text-align: left;\n",
       "    }\n",
       "\n",
       "    .dataframe tbody tr th {\n",
       "        vertical-align: top;\n",
       "    }\n",
       "</style>\n",
       "<table border=\"1\" class=\"dataframe\">\n",
       "  <thead>\n",
       "    <tr style=\"text-align: right;\">\n",
       "      <th></th>\n",
       "      <th>Gene</th>\n",
       "      <th>Variation</th>\n",
       "    </tr>\n",
       "    <tr>\n",
       "      <th>ID</th>\n",
       "      <th></th>\n",
       "      <th></th>\n",
       "    </tr>\n",
       "  </thead>\n",
       "  <tbody>\n",
       "    <tr>\n",
       "      <th>0</th>\n",
       "      <td>ACSL4</td>\n",
       "      <td>R570S</td>\n",
       "    </tr>\n",
       "    <tr>\n",
       "      <th>1</th>\n",
       "      <td>NAGLU</td>\n",
       "      <td>P521L</td>\n",
       "    </tr>\n",
       "    <tr>\n",
       "      <th>2</th>\n",
       "      <td>PAH</td>\n",
       "      <td>L333F</td>\n",
       "    </tr>\n",
       "    <tr>\n",
       "      <th>3</th>\n",
       "      <td>ING1</td>\n",
       "      <td>A148D</td>\n",
       "    </tr>\n",
       "    <tr>\n",
       "      <th>4</th>\n",
       "      <td>TMEM216</td>\n",
       "      <td>G77A</td>\n",
       "    </tr>\n",
       "  </tbody>\n",
       "</table>\n",
       "</div>"
      ],
      "text/plain": [
       "       Gene Variation\n",
       "ID                   \n",
       "0     ACSL4     R570S\n",
       "1     NAGLU     P521L\n",
       "2       PAH     L333F\n",
       "3      ING1     A148D\n",
       "4   TMEM216      G77A"
      ]
     },
     "metadata": {},
     "output_type": "display_data"
    },
    {
     "name": "stdout",
     "output_type": "stream",
     "text": [
      "Size of testing variants set: (5668, 2)\n"
     ]
    }
   ],
   "source": [
    "display(variants_train.head())\n",
    "print('Size of training variants set:', variants_train.shape)\n",
    "display(variants_test.head())\n",
    "print('Size of testing variants set:', variants_test.shape)"
   ]
  },
  {
   "cell_type": "code",
   "execution_count": 48,
   "metadata": {},
   "outputs": [
    {
     "name": "stdout",
     "output_type": "stream",
     "text": [
      "(264, 2)\n"
     ]
    },
    {
     "data": {
      "image/png": "[encoded data removed]",
      "text/plain": [
       "<matplotlib.figure.Figure at 0x11efd67b8>"
      ]
     },
     "metadata": {},
     "output_type": "display_data"
    }
   ],
   "source": [
    "# Plot gene frequency for top 20 most frequently occuring genes in training data \n",
    "gene_var_df = pd.DataFrame({'Gene': variants_train['Gene'].value_counts().index,\n",
    "                     'Count': variants_train['Gene'].value_counts()})\n",
    "print(gene_var_df.shape)\n",
    "sns.barplot(x=gene_var_df['Count'][:20], y=gene_var_df['Gene'][:20])\n",
    "plt.show()"
   ]
  },
  {
   "cell_type": "code",
   "execution_count": 11,
   "metadata": {},
   "outputs": [
    {
     "name": "stdout",
     "output_type": "stream",
     "text": [
      "   Class  Count\n",
      "7      7    953\n",
      "4      4    686\n",
      "1      1    568\n",
      "2      2    452\n",
      "6      6    275\n",
      "5      5    242\n",
      "3      3     89\n",
      "9      9     37\n",
      "8      8     19\n"
     ]
    },
    {
     "data": {
      "image/png": "[encoded data removed]",
      "text/plain": [
       "<matplotlib.figure.Figure at 0x115164208>"
      ]
     },
     "metadata": {},
     "output_type": "display_data"
    }
   ],
   "source": [
    "# Plot the occurrances of each class in training dataset\n",
    "\n",
    "class_df = pd.DataFrame({'Class': variants_train['Class'].value_counts().index,\n",
    "                     'Count': variants_train['Class'].value_counts()})\n",
    "\n",
    "print(class_df)\n",
    "sns.barplot(x=class_df['Class'], y=class_df['Count'])\n",
    "plt.show()"
   ]
  },
  {
   "cell_type": "markdown",
   "metadata": {},
   "source": [
    "As shown above, there is a disproportionate distribution of class appearances in the training dataset. Class 7 appears over 900 times while class 8 only appears 19 times. This is bound to affect what the model is going to learn. It probably won't be able to accurately classify the class 8 because it is exposed to so few examples of that class in the training dataset. One possible solution to this problem is to combine the training and testing datasets together and create a new train/validation/test set where the train set has more variety."
   ]
  },
  {
   "cell_type": "markdown",
   "metadata": {},
   "source": [
    "## Load Stage 2 Testing Data\n",
    "---"
   ]
  },
  {
   "cell_type": "code",
   "execution_count": 4,
   "metadata": {
    "collapsed": true
   },
   "outputs": [],
   "source": [
    "text_test_2 = pd.read_csv('stage2_test_text.csv', delimiter='\\|\\|', skiprows=1,\n",
    "                         names=['ID', 'Text'], engine='python').set_index('ID')\n",
    "\n",
    "variants_test_2 = pd.read_csv('stage2_test_variants.csv', skiprows=1,\n",
    "                          names=['ID', 'Gene', 'Variation'], engine='python').set_index('ID')"
   ]
  },
  {
   "cell_type": "code",
   "execution_count": 171,
   "metadata": {},
   "outputs": [
    {
     "data": {
      "text/html": [
       "<div>\n",
       "<style>\n",
       "    .dataframe thead tr:only-child th {\n",
       "        text-align: right;\n",
       "    }\n",
       "\n",
       "    .dataframe thead th {\n",
       "        text-align: left;\n",
       "    }\n",
       "\n",
       "    .dataframe tbody tr th {\n",
       "        vertical-align: top;\n",
       "    }\n",
       "</style>\n",
       "<table border=\"1\" class=\"dataframe\">\n",
       "  <thead>\n",
       "    <tr style=\"text-align: right;\">\n",
       "      <th></th>\n",
       "      <th>Text</th>\n",
       "    </tr>\n",
       "    <tr>\n",
       "      <th>ID</th>\n",
       "      <th></th>\n",
       "    </tr>\n",
       "  </thead>\n",
       "  <tbody>\n",
       "    <tr>\n",
       "      <th>1</th>\n",
       "      <td>The incidence of breast cancer is increasing i...</td>\n",
       "    </tr>\n",
       "    <tr>\n",
       "      <th>2</th>\n",
       "      <td>An unselected series of 310 colorectal carcino...</td>\n",
       "    </tr>\n",
       "    <tr>\n",
       "      <th>3</th>\n",
       "      <td>Mycosis fungoides and Sézary syndrome are prim...</td>\n",
       "    </tr>\n",
       "    <tr>\n",
       "      <th>4</th>\n",
       "      <td>Regulated progression through the cell cycle ...</td>\n",
       "    </tr>\n",
       "    <tr>\n",
       "      <th>5</th>\n",
       "      <td>Pilocytic astrocytoma (PA) is emerging as a tu...</td>\n",
       "    </tr>\n",
       "  </tbody>\n",
       "</table>\n",
       "</div>"
      ],
      "text/plain": [
       "                                                 Text\n",
       "ID                                                   \n",
       "1   The incidence of breast cancer is increasing i...\n",
       "2   An unselected series of 310 colorectal carcino...\n",
       "3   Mycosis fungoides and Sézary syndrome are prim...\n",
       "4    Regulated progression through the cell cycle ...\n",
       "5   Pilocytic astrocytoma (PA) is emerging as a tu..."
      ]
     },
     "metadata": {},
     "output_type": "display_data"
    },
    {
     "data": {
      "text/html": [
       "<div>\n",
       "<style>\n",
       "    .dataframe thead tr:only-child th {\n",
       "        text-align: right;\n",
       "    }\n",
       "\n",
       "    .dataframe thead th {\n",
       "        text-align: left;\n",
       "    }\n",
       "\n",
       "    .dataframe tbody tr th {\n",
       "        vertical-align: top;\n",
       "    }\n",
       "</style>\n",
       "<table border=\"1\" class=\"dataframe\">\n",
       "  <thead>\n",
       "    <tr style=\"text-align: right;\">\n",
       "      <th></th>\n",
       "      <th>Gene</th>\n",
       "      <th>Variation</th>\n",
       "    </tr>\n",
       "    <tr>\n",
       "      <th>ID</th>\n",
       "      <th></th>\n",
       "      <th></th>\n",
       "    </tr>\n",
       "  </thead>\n",
       "  <tbody>\n",
       "    <tr>\n",
       "      <th>1</th>\n",
       "      <td>CHEK2</td>\n",
       "      <td>H371Y</td>\n",
       "    </tr>\n",
       "    <tr>\n",
       "      <th>2</th>\n",
       "      <td>AXIN2</td>\n",
       "      <td>Truncating Mutations</td>\n",
       "    </tr>\n",
       "    <tr>\n",
       "      <th>3</th>\n",
       "      <td>WNT4</td>\n",
       "      <td>E216G</td>\n",
       "    </tr>\n",
       "    <tr>\n",
       "      <th>4</th>\n",
       "      <td>SUCLA2</td>\n",
       "      <td>G118R</td>\n",
       "    </tr>\n",
       "    <tr>\n",
       "      <th>5</th>\n",
       "      <td>BRAF</td>\n",
       "      <td>T599insTT</td>\n",
       "    </tr>\n",
       "  </tbody>\n",
       "</table>\n",
       "</div>"
      ],
      "text/plain": [
       "      Gene             Variation\n",
       "ID                              \n",
       "1    CHEK2                 H371Y\n",
       "2    AXIN2  Truncating Mutations\n",
       "3     WNT4                 E216G\n",
       "4   SUCLA2                 G118R\n",
       "5     BRAF             T599insTT"
      ]
     },
     "metadata": {},
     "output_type": "display_data"
    }
   ],
   "source": [
    "display(text_test_2.head())\n",
    "display(variants_test_2.head())"
   ]
  },
  {
   "cell_type": "markdown",
   "metadata": {},
   "source": [
    "# Using Imbalanced-Learn\n",
    "---\n",
    "Here SMOTE (Synthetic Minority Over-Sampling Technique) is used to balance the class distribution."
   ]
  },
  {
   "cell_type": "code",
   "execution_count": 5,
   "metadata": {
    "collapsed": true
   },
   "outputs": [],
   "source": [
    "# Define function to resample the data using SMOTE\n",
    "def resample_data(X, y):\n",
    "    X_resampled, y_resampled = SMOTE(random_state=21).fit_sample(X, y)\n",
    "    return X_resampled, y_resampled"
   ]
  },
  {
   "cell_type": "markdown",
   "metadata": {},
   "source": [
    "# Split Data into Train/Test Sets\n",
    "---"
   ]
  },
  {
   "cell_type": "code",
   "execution_count": 6,
   "metadata": {
    "collapsed": true
   },
   "outputs": [],
   "source": [
    "# Define function to split the data into train/test sets\n",
    "def split_data(X, y):\n",
    "    X_train, X_test, y_train, y_test = train_test_split(X, y, test_size=0.2, random_state=21)\n",
    "    return X_train, X_test, y_train, y_test"
   ]
  },
  {
   "cell_type": "markdown",
   "metadata": {},
   "source": [
    "# Approach 1: Scikit-learn\n",
    "---\n",
    "Using Sci-kit learn to fit the training data to a MultinomialNB and RandomForestClassifier model.\n",
    "First use CountVectorizer and TfidfTransformer to transform text data into numerical data.\n",
    "Use Pipeline to make this process simpler, then use GridSearchCV to sift through several different parameters to find the optimal ones."
   ]
  },
  {
   "cell_type": "markdown",
   "metadata": {},
   "source": [
    "## Using Feature Extraction to Transform Text into Numerical Data\n",
    "---\n",
    "### MultinomialNB"
   ]
  },
  {
   "cell_type": "code",
   "execution_count": 13,
   "metadata": {
    "collapsed": true
   },
   "outputs": [],
   "source": [
    "# Process text data using CountVectorizer and TfidfTransformer\n",
    "count_vect = CountVectorizer()\n",
    "X_train_counts = count_vect.fit_transform(text_train['Text']) # When using entire training set"
   ]
  },
  {
   "cell_type": "code",
   "execution_count": 15,
   "metadata": {},
   "outputs": [
    {
     "name": "stdout",
     "output_type": "stream",
     "text": [
      "Size of sparse matrix: (3321, 155732)\n",
      "Number of non-zero occurences: 5620942\n",
      "Sparsity: 1.0868318756333166\n"
     ]
    }
   ],
   "source": [
    "# Display CountVectorizer training set info\n",
    "print('Size of sparse matrix: {}'.format(X_train_counts.shape))\n",
    "print('Number of non-zero occurences: {}'.format(X_train_counts.nnz))\n",
    "print('Sparsity: {}'.format((100.0 * X_train_counts.nnz / (X_train_counts.shape[0] * X_train_counts.shape[1]))))"
   ]
  },
  {
   "cell_type": "code",
   "execution_count": 16,
   "metadata": {},
   "outputs": [
    {
     "name": "stdout",
     "output_type": "stream",
     "text": [
      "Shape of X_train_tfidf: (3321, 155732)\n"
     ]
    }
   ],
   "source": [
    "# Use TfidfTransformer fit_transform method on X_train_counts\n",
    "tf_transformer = TfidfTransformer()\n",
    "X_train_tfidf = tf_transformer.fit_transform(X_train_counts)\n",
    "print('Shape of X_train_tfidf:', X_train_tfidf.shape)"
   ]
  },
  {
   "cell_type": "code",
   "execution_count": 17,
   "metadata": {
    "collapsed": true
   },
   "outputs": [],
   "source": [
    "# Resample the data using imbalanced-learn and SMOTE\n",
    "X_resampled, y_resampled = resample_data(X_train_tfidf, variants_train['Class'])"
   ]
  },
  {
   "cell_type": "code",
   "execution_count": 18,
   "metadata": {},
   "outputs": [
    {
     "name": "stdout",
     "output_type": "stream",
     "text": [
      "7    953\n",
      "6    953\n",
      "5    953\n",
      "4    953\n",
      "3    953\n",
      "2    953\n",
      "9    953\n",
      "1    953\n",
      "8    953\n",
      "Name: Class, dtype: int64\n"
     ]
    },
    {
     "data": {
      "image/png": "[encoded data removed]",
      "text/plain": [
       "<matplotlib.figure.Figure at 0x1393e2588>"
      ]
     },
     "metadata": {},
     "output_type": "display_data"
    }
   ],
   "source": [
    "# Visualize classes after resampling data\n",
    "resample_df = pd.DataFrame(y_resampled, columns=['Class'])\n",
    "\n",
    "print(resample_df['Class'].value_counts())\n",
    "sns.barplot(x=resample_df['Class'].value_counts().index, y=resample_df['Class'].value_counts())\n",
    "plt.show()"
   ]
  },
  {
   "cell_type": "code",
   "execution_count": 19,
   "metadata": {},
   "outputs": [
    {
     "name": "stdout",
     "output_type": "stream",
     "text": [
      "X_train size: (6861, 155732)\n",
      "X_test size: (1716, 155732)\n",
      "y_train size: (6861,)\n",
      "y_test size: (1716,)\n"
     ]
    }
   ],
   "source": [
    "# Split training data into train/test datasets\n",
    "\n",
    "X_train, X_test, y_train, y_test = split_data(X_resampled, y_resampled)\n",
    "\n",
    "print('X_train size: {}'.format(X_train.shape))\n",
    "print('X_test size: {}'.format(X_test.shape))\n",
    "print('y_train size: {}'.format(y_train.shape))\n",
    "print('y_test size: {}'.format(y_test.shape))"
   ]
  },
  {
   "cell_type": "code",
   "execution_count": 20,
   "metadata": {
    "collapsed": true
   },
   "outputs": [],
   "source": [
    "# Create MultinomialNB Classifier\n",
    "clf = MultinomialNB().fit(X_train, y_train)"
   ]
  },
  {
   "cell_type": "code",
   "execution_count": 21,
   "metadata": {
    "collapsed": true
   },
   "outputs": [],
   "source": [
    "# Make predictions\n",
    "predicted = clf.predict(X_test)\n",
    "predicted_log = clf.predict_log_proba(X_test)\n",
    "predicted_prob = clf.predict_proba(X_test)"
   ]
  },
  {
   "cell_type": "code",
   "execution_count": 22,
   "metadata": {},
   "outputs": [
    {
     "name": "stdout",
     "output_type": "stream",
     "text": [
      "(1716, 9)\n",
      "(1716,)\n"
     ]
    }
   ],
   "source": [
    "print(predicted_log.shape)\n",
    "print(y_test.shape)"
   ]
  },
  {
   "cell_type": "code",
   "execution_count": 23,
   "metadata": {},
   "outputs": [
    {
     "name": "stdout",
     "output_type": "stream",
     "text": [
      "Log loss is: 2.197224577336219\n",
      "\n",
      "Accuracy is: 0.6905594405594405\n",
      "\n",
      "             precision    recall  f1-score   support\n",
      "\n",
      "          1       0.64      0.47      0.55       194\n",
      "          2       0.63      0.69      0.66       191\n",
      "          3       0.81      0.72      0.76       197\n",
      "          4       0.74      0.55      0.63       187\n",
      "          5       0.48      0.70      0.57       188\n",
      "          6       0.83      0.63      0.72       197\n",
      "          7       0.54      0.58      0.56       179\n",
      "          8       0.77      0.92      0.84       187\n",
      "          9       0.89      0.95      0.92       196\n",
      "\n",
      "avg / total       0.70      0.69      0.69      1716\n",
      "\n",
      "[[ 92   3   5  18  48   9   6  10   3]\n",
      " [  3 131   1   1   3   1  38  12   1]\n",
      " [  1   3 142  14  32   0   5   0   0]\n",
      " [ 35   5   5 102  22   3   8   6   1]\n",
      " [  5   5   9   1 131  12  17   5   3]\n",
      " [  5  12   2   1  36 125  15   1   0]\n",
      " [  2  50  12   1   1   0 103   9   1]\n",
      " [  0   0   0   0   0   0   0 172  15]\n",
      " [  0   0   0   0   0   0   0   9 187]]\n"
     ]
    }
   ],
   "source": [
    "loss = log_loss(y_test, predicted_log)\n",
    "acc = accuracy_score(y_test, predicted)\n",
    "print('Log loss is: {}\\n'.format(loss))\n",
    "print('Accuracy is: {}\\n'.format(acc))\n",
    "print(classification_report(y_test, predicted))\n",
    "print(confusion_matrix(y_test, predicted))"
   ]
  },
  {
   "cell_type": "markdown",
   "metadata": {
    "collapsed": true
   },
   "source": [
    "# Simplify above process with Pipeline\n",
    "---\n",
    "### MultinomialNB\n",
    "\n",
    "Using MultinomialNB with Pipeline"
   ]
  },
  {
   "cell_type": "code",
   "execution_count": 8,
   "metadata": {
    "collapsed": true
   },
   "outputs": [],
   "source": [
    "# Do above again with Pipeline\n",
    "text_clf_nb = imb_pipeline([('vect', CountVectorizer()),\n",
    "                            ('tfidf', TfidfTransformer()),\n",
    "                            ('sample', SMOTE(random_state=21)),\n",
    "                            ('clf', MultinomialNB())])"
   ]
  },
  {
   "cell_type": "code",
   "execution_count": 8,
   "metadata": {},
   "outputs": [
    {
     "name": "stdout",
     "output_type": "stream",
     "text": [
      "X_train size: (2656,)\n",
      "X_test size: (665,)\n",
      "y_train size: (2656,)\n",
      "y_test size: (665,)\n"
     ]
    }
   ],
   "source": [
    "# Split data\n",
    "X_train, X_test, y_train, y_test = split_data(text_train['Text'], variants_train['Class'])\n",
    "\n",
    "print('X_train size: {}'.format(X_train.shape))\n",
    "print('X_test size: {}'.format(X_test.shape))\n",
    "print('y_train size: {}'.format(y_train.shape))\n",
    "print('y_test size: {}'.format(y_test.shape))"
   ]
  },
  {
   "cell_type": "code",
   "execution_count": 32,
   "metadata": {
    "collapsed": true
   },
   "outputs": [],
   "source": [
    "# Fit and predict for MultinomialNB\n",
    "text_clf_nb.fit(X_train, y_train)\n",
    "predicted = text_clf_nb.predict(X_test)\n",
    "predicted_log = text_clf_nb.predict_log_proba(X_test)\n",
    "predicted_prob = text_clf_nb.predict_proba(X_test)"
   ]
  },
  {
   "cell_type": "code",
   "execution_count": 33,
   "metadata": {},
   "outputs": [
    {
     "name": "stdout",
     "output_type": "stream",
     "text": [
      "MultinomialNB Results: \n",
      "Log loss is: 2.1972245773362196\n",
      "Accuracy is: 0.5338345864661654\n",
      "\n",
      "             precision    recall  f1-score   support\n",
      "\n",
      "          1       0.55      0.49      0.52       110\n",
      "          2       0.43      0.67      0.53       107\n",
      "          3       0.26      0.52      0.34        21\n",
      "          4       0.74      0.50      0.60       129\n",
      "          5       0.27      0.41      0.32        37\n",
      "          6       0.82      0.65      0.73        63\n",
      "          7       0.70      0.46      0.55       185\n",
      "          8       0.05      0.50      0.09         2\n",
      "          9       0.52      1.00      0.69        11\n",
      "\n",
      "avg / total       0.61      0.53      0.55       665\n",
      "\n",
      "[[54  7  2 15 13  8  3  5  3]\n",
      " [ 3 72  2  1  2  0 23  4  0]\n",
      " [ 1  1 11  3  3  0  2  0  0]\n",
      " [31  5  7 65 13  0  1  3  4]\n",
      " [ 5  7  4  1 15  1  3  0  1]\n",
      " [ 2  6  0  1  7 41  5  1  0]\n",
      " [ 3 68 17  2  3  0 85  6  1]\n",
      " [ 0  0  0  0  0  0  0  1  1]\n",
      " [ 0  0  0  0  0  0  0  0 11]]\n"
     ]
    }
   ],
   "source": [
    "# Report log loss, accuracy and classification report\n",
    "loss = log_loss(y_test, predicted_log)\n",
    "acc = accuracy_score(y_test, predicted)\n",
    "print('MultinomialNB Results: ')\n",
    "print('Log loss is: {}'.format(loss))\n",
    "print('Accuracy is: {}\\n'.format(acc))\n",
    "print(classification_report(y_test, predicted))\n",
    "print(confusion_matrix(y_test, predicted))"
   ]
  },
  {
   "cell_type": "markdown",
   "metadata": {},
   "source": [
    "# RandomForestClassifier\n",
    "\n",
    "Using RandomForestClassifier with Pipeline"
   ]
  },
  {
   "cell_type": "code",
   "execution_count": 34,
   "metadata": {
    "collapsed": true
   },
   "outputs": [],
   "source": [
    "text_clf_rf = imb_pipeline([('vect', CountVectorizer()),\n",
    "                            ('tfidf', TfidfTransformer()),\n",
    "                            ('sample', SMOTE(random_state=21)),\n",
    "                            ('clf', RandomForestClassifier(random_state=21))])"
   ]
  },
  {
   "cell_type": "code",
   "execution_count": 35,
   "metadata": {
    "collapsed": true
   },
   "outputs": [],
   "source": [
    "# Fit and predict for RandomForestClassifier\n",
    "text_clf_rf.fit(X_train, y_train)\n",
    "predicted = text_clf_rf.predict(X_test)\n",
    "predicted_prob = text_clf_rf.predict_proba(X_test)\n",
    "# Add 1e-12 to avoid divide by zero errors because some of the probabilities are 0.0\n",
    "predicted_log = np.log(predicted_prob + 1e-12)"
   ]
  },
  {
   "cell_type": "code",
   "execution_count": 36,
   "metadata": {},
   "outputs": [
    {
     "name": "stdout",
     "output_type": "stream",
     "text": [
      "RandomForestClassifier Results: \n",
      "Log loss is: 1.937211225006586\n",
      "Accuracy is: 0.5729323308270676\n",
      "\n",
      "             precision    recall  f1-score   support\n",
      "\n",
      "          1       0.51      0.52      0.51       110\n",
      "          2       0.55      0.53      0.54       107\n",
      "          3       0.33      0.43      0.38        21\n",
      "          4       0.59      0.63      0.61       129\n",
      "          5       0.40      0.46      0.43        37\n",
      "          6       0.81      0.70      0.75        63\n",
      "          7       0.60      0.60      0.60       185\n",
      "          8       0.00      0.00      0.00         2\n",
      "          9       1.00      0.45      0.62        11\n",
      "\n",
      "avg / total       0.58      0.57      0.58       665\n",
      "\n",
      "[[ 57   4   2  24   9   6   8   0   0]\n",
      " [  7  57   0   7   2   1  33   0   0]\n",
      " [  0   0   9   5   1   2   4   0   0]\n",
      " [ 27   2   5  81   3   0  10   1   0]\n",
      " [  3   1   3   3  17   1   9   0   0]\n",
      " [  4   1   0   2   4  44   8   0   0]\n",
      " [ 12  38   8  10   6   0 111   0   0]\n",
      " [  0   0   0   1   0   0   1   0   0]\n",
      " [  2   0   0   4   0   0   0   0   5]]\n"
     ]
    }
   ],
   "source": [
    "# Report log loss, accuracy and classification report\n",
    "loss = log_loss(y_test, predicted_log)\n",
    "acc = accuracy_score(y_test, predicted)\n",
    "print('RandomForestClassifier Results: ')\n",
    "print('Log loss is: {}'.format(loss))\n",
    "print('Accuracy is: {}\\n'.format(acc))\n",
    "print(classification_report(y_test, predicted))\n",
    "print(confusion_matrix(y_test, predicted))"
   ]
  },
  {
   "cell_type": "markdown",
   "metadata": {},
   "source": [
    "# Grid Search for optimal parameters\n",
    "---\n",
    "### MultinomialNB\n",
    "\n",
    "Use MultinomialNB with GridSearchCV"
   ]
  },
  {
   "cell_type": "code",
   "execution_count": 8,
   "metadata": {
    "collapsed": true
   },
   "outputs": [],
   "source": [
    "text_clf_nb = imb_pipeline([('vect', CountVectorizer()),\n",
    "                           ('tfidf', TfidfTransformer()),\n",
    "                           ('sample', SMOTE(random_state=21)),\n",
    "                           ('clf', MultinomialNB())])\n",
    "\n",
    "parameters = {'vect__ngram_range': [(1, 1), (1, 2)],\n",
    "              'tfidf__use_idf': (True, False),\n",
    "              'clf__alpha': (1e-1, 1e-2),}\n",
    "\n",
    "gs_clf_nb = GridSearchCV(text_clf_nb, parameters, n_jobs=1, verbose=10)"
   ]
  },
  {
   "cell_type": "code",
   "execution_count": 11,
   "metadata": {},
   "outputs": [
    {
     "name": "stdout",
     "output_type": "stream",
     "text": [
      "Fitting 3 folds for each of 8 candidates, totalling 24 fits\n",
      "[CV] tfidf__use_idf=True, vect__ngram_range=(1, 1), clf__alpha=0.1 ...\n",
      "[CV]  tfidf__use_idf=True, vect__ngram_range=(1, 1), clf__alpha=0.1, score=0.5495495495495496, total=  37.5s\n",
      "[CV] tfidf__use_idf=True, vect__ngram_range=(1, 1), clf__alpha=0.1 ...\n"
     ]
    },
    {
     "name": "stderr",
     "output_type": "stream",
     "text": [
      "[Parallel(n_jobs=1)]: Done   1 out of   1 | elapsed:  1.0min remaining:    0.0s\n"
     ]
    },
    {
     "name": "stdout",
     "output_type": "stream",
     "text": [
      "[CV]  tfidf__use_idf=True, vect__ngram_range=(1, 1), clf__alpha=0.1, score=0.580608793686584, total=  49.2s\n",
      "[CV] tfidf__use_idf=True, vect__ngram_range=(1, 1), clf__alpha=0.1 ...\n"
     ]
    },
    {
     "name": "stderr",
     "output_type": "stream",
     "text": [
      "[Parallel(n_jobs=1)]: Done   2 out of   2 | elapsed:  2.2min remaining:    0.0s\n"
     ]
    },
    {
     "name": "stdout",
     "output_type": "stream",
     "text": [
      "[CV]  tfidf__use_idf=True, vect__ngram_range=(1, 1), clf__alpha=0.1, score=0.5607264472190693, total=  37.8s\n",
      "[CV] tfidf__use_idf=True, vect__ngram_range=(1, 2), clf__alpha=0.1 ...\n"
     ]
    },
    {
     "name": "stderr",
     "output_type": "stream",
     "text": [
      "[Parallel(n_jobs=1)]: Done   3 out of   3 | elapsed:  3.1min remaining:    0.0s\n"
     ]
    },
    {
     "name": "stdout",
     "output_type": "stream",
     "text": [
      "[CV]  tfidf__use_idf=True, vect__ngram_range=(1, 2), clf__alpha=0.1, score=0.545045045045045, total= 2.4min\n",
      "[CV] tfidf__use_idf=True, vect__ngram_range=(1, 2), clf__alpha=0.1 ...\n"
     ]
    },
    {
     "name": "stderr",
     "output_type": "stream",
     "text": [
      "[Parallel(n_jobs=1)]: Done   4 out of   4 | elapsed:  6.5min remaining:    0.0s\n"
     ]
    },
    {
     "name": "stdout",
     "output_type": "stream",
     "text": [
      "[CV]  tfidf__use_idf=True, vect__ngram_range=(1, 2), clf__alpha=0.1, score=0.5828635851183765, total= 2.2min\n",
      "[CV] tfidf__use_idf=True, vect__ngram_range=(1, 2), clf__alpha=0.1 ...\n"
     ]
    },
    {
     "name": "stderr",
     "output_type": "stream",
     "text": [
      "[Parallel(n_jobs=1)]: Done   5 out of   5 | elapsed:  9.7min remaining:    0.0s\n"
     ]
    },
    {
     "name": "stdout",
     "output_type": "stream",
     "text": [
      "[CV]  tfidf__use_idf=True, vect__ngram_range=(1, 2), clf__alpha=0.1, score=0.565266742338252, total= 2.3min\n",
      "[CV] tfidf__use_idf=False, vect__ngram_range=(1, 1), clf__alpha=0.1 ..\n"
     ]
    },
    {
     "name": "stderr",
     "output_type": "stream",
     "text": [
      "[Parallel(n_jobs=1)]: Done   6 out of   6 | elapsed: 12.9min remaining:    0.0s\n"
     ]
    },
    {
     "name": "stdout",
     "output_type": "stream",
     "text": [
      "[CV]  tfidf__use_idf=False, vect__ngram_range=(1, 1), clf__alpha=0.1, score=0.5281531531531531, total=  34.3s\n",
      "[CV] tfidf__use_idf=False, vect__ngram_range=(1, 1), clf__alpha=0.1 ..\n"
     ]
    },
    {
     "name": "stderr",
     "output_type": "stream",
     "text": [
      "[Parallel(n_jobs=1)]: Done   7 out of   7 | elapsed: 13.7min remaining:    0.0s\n"
     ]
    },
    {
     "name": "stdout",
     "output_type": "stream",
     "text": [
      "[CV]  tfidf__use_idf=False, vect__ngram_range=(1, 1), clf__alpha=0.1, score=0.5546786922209695, total=  34.5s\n",
      "[CV] tfidf__use_idf=False, vect__ngram_range=(1, 1), clf__alpha=0.1 ..\n"
     ]
    },
    {
     "name": "stderr",
     "output_type": "stream",
     "text": [
      "[Parallel(n_jobs=1)]: Done   8 out of   8 | elapsed: 14.6min remaining:    0.0s\n"
     ]
    },
    {
     "name": "stdout",
     "output_type": "stream",
     "text": [
      "[CV]  tfidf__use_idf=False, vect__ngram_range=(1, 1), clf__alpha=0.1, score=0.5482406356413166, total=  34.5s\n",
      "[CV] tfidf__use_idf=False, vect__ngram_range=(1, 2), clf__alpha=0.1 ..\n"
     ]
    },
    {
     "name": "stderr",
     "output_type": "stream",
     "text": [
      "[Parallel(n_jobs=1)]: Done   9 out of   9 | elapsed: 15.5min remaining:    0.0s\n"
     ]
    },
    {
     "name": "stdout",
     "output_type": "stream",
     "text": [
      "[CV]  tfidf__use_idf=False, vect__ngram_range=(1, 2), clf__alpha=0.1, score=0.5416666666666666, total= 2.0min\n",
      "[CV] tfidf__use_idf=False, vect__ngram_range=(1, 2), clf__alpha=0.1 ..\n",
      "[CV]  tfidf__use_idf=False, vect__ngram_range=(1, 2), clf__alpha=0.1, score=0.5636978579481398, total= 2.0min\n",
      "[CV] tfidf__use_idf=False, vect__ngram_range=(1, 2), clf__alpha=0.1 ..\n",
      "[CV]  tfidf__use_idf=False, vect__ngram_range=(1, 2), clf__alpha=0.1, score=0.5561861520998865, total= 2.0min\n",
      "[CV] tfidf__use_idf=True, vect__ngram_range=(1, 1), clf__alpha=0.01 ..\n",
      "[CV]  tfidf__use_idf=True, vect__ngram_range=(1, 1), clf__alpha=0.01, score=0.5720720720720721, total=  34.4s\n",
      "[CV] tfidf__use_idf=True, vect__ngram_range=(1, 1), clf__alpha=0.01 ..\n",
      "[CV]  tfidf__use_idf=True, vect__ngram_range=(1, 1), clf__alpha=0.01, score=0.6042841037204059, total=  34.4s\n",
      "[CV] tfidf__use_idf=True, vect__ngram_range=(1, 1), clf__alpha=0.01 ..\n",
      "[CV]  tfidf__use_idf=True, vect__ngram_range=(1, 1), clf__alpha=0.01, score=0.5925085130533485, total=  39.3s\n",
      "[CV] tfidf__use_idf=True, vect__ngram_range=(1, 2), clf__alpha=0.01 ..\n",
      "[CV]  tfidf__use_idf=True, vect__ngram_range=(1, 2), clf__alpha=0.01, score=0.5844594594594594, total= 2.2min\n",
      "[CV] tfidf__use_idf=True, vect__ngram_range=(1, 2), clf__alpha=0.01 ..\n",
      "[CV]  tfidf__use_idf=True, vect__ngram_range=(1, 2), clf__alpha=0.01, score=0.5862457722660653, total= 2.1min\n",
      "[CV] tfidf__use_idf=True, vect__ngram_range=(1, 2), clf__alpha=0.01 ..\n",
      "[CV]  tfidf__use_idf=True, vect__ngram_range=(1, 2), clf__alpha=0.01, score=0.5902383654937571, total= 2.1min\n",
      "[CV] tfidf__use_idf=False, vect__ngram_range=(1, 1), clf__alpha=0.01 .\n",
      "[CV]  tfidf__use_idf=False, vect__ngram_range=(1, 1), clf__alpha=0.01, score=0.5675675675675675, total=  34.0s\n",
      "[CV] tfidf__use_idf=False, vect__ngram_range=(1, 1), clf__alpha=0.01 .\n",
      "[CV]  tfidf__use_idf=False, vect__ngram_range=(1, 1), clf__alpha=0.01, score=0.5873731679819617, total=  33.7s\n",
      "[CV] tfidf__use_idf=False, vect__ngram_range=(1, 1), clf__alpha=0.01 .\n",
      "[CV]  tfidf__use_idf=False, vect__ngram_range=(1, 1), clf__alpha=0.01, score=0.5856980703745743, total=  33.9s\n",
      "[CV] tfidf__use_idf=False, vect__ngram_range=(1, 2), clf__alpha=0.01 .\n",
      "[CV]  tfidf__use_idf=False, vect__ngram_range=(1, 2), clf__alpha=0.01, score=0.5765765765765766, total= 2.0min\n",
      "[CV] tfidf__use_idf=False, vect__ngram_range=(1, 2), clf__alpha=0.01 .\n",
      "[CV]  tfidf__use_idf=False, vect__ngram_range=(1, 2), clf__alpha=0.01, score=0.5862457722660653, total= 2.0min\n",
      "[CV] tfidf__use_idf=False, vect__ngram_range=(1, 2), clf__alpha=0.01 .\n",
      "[CV]  tfidf__use_idf=False, vect__ngram_range=(1, 2), clf__alpha=0.01, score=0.5856980703745743, total= 2.0min\n"
     ]
    },
    {
     "name": "stderr",
     "output_type": "stream",
     "text": [
      "[Parallel(n_jobs=1)]: Done  24 out of  24 | elapsed: 46.7min finished\n"
     ]
    },
    {
     "data": {
      "text/plain": [
       "GridSearchCV(cv=None, error_score='raise',\n",
       "       estimator=Pipeline(memory=None,\n",
       "     steps=[('vect', CountVectorizer(analyzer='word', binary=False, decode_error='strict',\n",
       "        dtype=<class 'numpy.int64'>, encoding='utf-8', input='content',\n",
       "        lowercase=True, max_df=1.0, max_features=None, min_df=1,\n",
       "        ngram_range=(1, 1), preprocessor=None, stop_words=None,\n",
       "        strip...o='auto', svm_estimator=None)), ('clf', MultinomialNB(alpha=1.0, class_prior=None, fit_prior=True))]),\n",
       "       fit_params=None, iid=True, n_jobs=1,\n",
       "       param_grid={'tfidf__use_idf': (True, False), 'vect__ngram_range': [(1, 1), (1, 2)], 'clf__alpha': (0.1, 0.01)},\n",
       "       pre_dispatch='2*n_jobs', refit=True, return_train_score=True,\n",
       "       scoring=None, verbose=10)"
      ]
     },
     "execution_count": 11,
     "metadata": {},
     "output_type": "execute_result"
    }
   ],
   "source": [
    "# Fit and predict for MultinomialNB GridSearchCV\n",
    "gs_clf_nb.fit(X_train, y_train)"
   ]
  },
  {
   "cell_type": "code",
   "execution_count": 12,
   "metadata": {
    "collapsed": true
   },
   "outputs": [],
   "source": [
    "predicted = gs_clf_nb.predict(X_test)\n",
    "predicted_log = gs_clf_nb.predict_log_proba(X_test)\n",
    "predicted_prob = gs_clf_nb.predict_proba(X_test)"
   ]
  },
  {
   "cell_type": "code",
   "execution_count": 13,
   "metadata": {},
   "outputs": [
    {
     "name": "stdout",
     "output_type": "stream",
     "text": [
      "MultinomialNB Results: \n",
      "Log loss is: 2.1972245773362196\n",
      "Accuracy is: 0.6180451127819548\n",
      "\n",
      "             precision    recall  f1-score   support\n",
      "\n",
      "          1       0.58      0.58      0.58       110\n",
      "          2       0.54      0.58      0.56       107\n",
      "          3       0.36      0.62      0.46        21\n",
      "          4       0.74      0.63      0.68       129\n",
      "          5       0.33      0.38      0.35        37\n",
      "          6       0.87      0.62      0.72        63\n",
      "          7       0.67      0.68      0.68       185\n",
      "          8       0.33      0.50      0.40         2\n",
      "          9       0.65      1.00      0.79        11\n",
      "\n",
      "avg / total       0.64      0.62      0.62       665\n",
      "\n",
      "[[ 64   3   2  19  10   5   4   1   2]\n",
      " [  2  62   0   3   2   0  38   0   0]\n",
      " [  0   1  13   4   1   0   2   0   0]\n",
      " [ 31   0   5  81   8   0   2   1   1]\n",
      " [  6   4   4   0  14   1   7   0   1]\n",
      " [  5   5   0   1   5  39   8   0   0]\n",
      " [  2  39  12   2   3   0 126   0   1]\n",
      " [  0   0   0   0   0   0   0   1   1]\n",
      " [  0   0   0   0   0   0   0   0  11]]\n",
      "Best Estimator:  Pipeline(memory=None,\n",
      "     steps=[('vect', CountVectorizer(analyzer='word', binary=False, decode_error='strict',\n",
      "        dtype=<class 'numpy.int64'>, encoding='utf-8', input='content',\n",
      "        lowercase=True, max_df=1.0, max_features=None, min_df=1,\n",
      "        ngram_range=(1, 1), preprocessor=None, stop_words=None,\n",
      "        strip...='auto', svm_estimator=None)), ('clf', MultinomialNB(alpha=0.01, class_prior=None, fit_prior=True))])\n",
      "Best Params:  {'tfidf__use_idf': True, 'vect__ngram_range': (1, 1), 'clf__alpha': 0.01}\n"
     ]
    }
   ],
   "source": [
    "# Report log loss, accuracy and classification report\n",
    "loss = log_loss(y_test, predicted_log)\n",
    "acc = accuracy_score(y_test, predicted)\n",
    "print('MultinomialNB Results: ')\n",
    "print('Log loss is: {}'.format(loss))\n",
    "print('Accuracy is: {}\\n'.format(acc))\n",
    "print(classification_report(y_test, predicted))\n",
    "print(confusion_matrix(y_test, predicted))\n",
    "print('Best Estimator: ', gs_clf_nb.best_estimator_)\n",
    "print('Best Params: ', gs_clf_nb.best_params_)"
   ]
  },
  {
   "cell_type": "markdown",
   "metadata": {},
   "source": [
    "# Approach 2: spaCy and Keras\n",
    "---\n",
    "Use spaCy to preprocess text data into word vectors and feed into a multilayer perceptron using keras deep learning library."
   ]
  },
  {
   "cell_type": "code",
   "execution_count": 6,
   "metadata": {
    "collapsed": true
   },
   "outputs": [],
   "source": [
    "# Initialize spacy english parser\n",
    "nlp = spacy.load('en')"
   ]
  },
  {
   "cell_type": "markdown",
   "metadata": {},
   "source": [
    "## Prepare Data for Deep Learning\n",
    "---\n",
    "### Clean up text, remove stopwords and transform to word vectors"
   ]
  },
  {
   "cell_type": "code",
   "execution_count": 23,
   "metadata": {
    "collapsed": true
   },
   "outputs": [],
   "source": [
    "# Clean text before feeding it to spaCy\n",
    "punctuations = string.punctuation\n",
    "\n",
    "# Define function to cleanup text and remove stopwords and puncuation\n",
    "def cleanup_text(docs):\n",
    "    texts = []\n",
    "    for doc in docs:\n",
    "        tokens = [tok.lower() for tok in doc.split() if (tok not in stopwords and tok not in punctuations)]\n",
    "        tokens = ' '.join(tokens)\n",
    "        texts.append(tokens)\n",
    "    return pd.Series(texts)"
   ]
  },
  {
   "cell_type": "code",
   "execution_count": null,
   "metadata": {
    "collapsed": true
   },
   "outputs": [],
   "source": [
    "# Cleanup text and make sure it retains original shape\n",
    "print('Original training data shape: ', text_train['Text'].shape)\n",
    "text_train_cleaned = cleanup_text(text_train['Text'])\n",
    "print('Cleaned up training data shape: ', text_train_cleaned.shape)"
   ]
  },
  {
   "cell_type": "code",
   "execution_count": null,
   "metadata": {
    "collapsed": true
   },
   "outputs": [],
   "source": [
    "# Parse documents and print some info\n",
    "print('Parsing documents...')\n",
    "\n",
    "start = time()\n",
    "\n",
    "vectors_train = [doc.vector for doc in nlp.pipe(text_train_cleaned, batch_size=500, n_threads=1, \n",
    "                                                parse=False, tag=False, entity=False)]\n",
    "vectors_train = np.array(vectors)\n",
    "\n",
    "end = time()\n",
    "print('Total time passed parsing documents: {} seconds'.format(end - start))\n",
    "print('Total number of documents parsed: {}'.format(len(vectors_train)))\n",
    "print('Number of words in first document: ', len(text_train['Text'][0]))\n",
    "print('Number of words in second document: ', len(text_train['Text'][1]))\n",
    "print('Size of vector embeddings: ', vectors_train.shape[1])\n",
    "print('Shape of vectors embeddings matrix: ', vectors_train.shape)"
   ]
  },
  {
   "cell_type": "code",
   "execution_count": 26,
   "metadata": {},
   "outputs": [
    {
     "name": "stdout",
     "output_type": "stream",
     "text": [
      "vectors type:  <class 'numpy.ndarray'>\n",
      "nlp type:  <class 'spacy.en.English'>\n"
     ]
    }
   ],
   "source": [
    "# The vector is a numpy array\n",
    "print('vectors type: ', type(vectors_train))\n",
    "print('nlp type: ', type(nlp))\n",
    "\n",
    "# Free up some memory. Delete cleaned text variable.\n",
    "try:\n",
    "    del text_train_cleaned\n",
    "except NameError:\n",
    "    print('text_train_cleaned already deleted.')"
   ]
  },
  {
   "cell_type": "code",
   "execution_count": 132,
   "metadata": {},
   "outputs": [
    {
     "name": "stdout",
     "output_type": "stream",
     "text": [
      "y_train samples:\n",
      "[[1 0 0 0 0 0 0 0 0]\n",
      " [0 1 0 0 0 0 0 0 0]\n",
      " [0 1 0 0 0 0 0 0 0]\n",
      " [0 0 1 0 0 0 0 0 0]\n",
      " [0 0 0 1 0 0 0 0 0]]\n",
      "y_train shape: (3321, 9)\n"
     ]
    }
   ],
   "source": [
    "# Transform labels into one hot encoded format.\n",
    "y_train_proc = label_binarize(variants_train['Class'], classes=[1, 2, 3, 4, 5, 6, 7, 8, 9])\n",
    "print('y_train shape: {}'.format(y_train_proc.shape))\n",
    "print('y_train samples:')\n",
    "print(y_train_proc[:5])"
   ]
  },
  {
   "cell_type": "markdown",
   "metadata": {},
   "source": [
    "## Save Test Word Embeddings and Labels\n",
    "---\n",
    "To load it in use *np.load(filename)*"
   ]
  },
  {
   "cell_type": "code",
   "execution_count": 28,
   "metadata": {
    "collapsed": true
   },
   "outputs": [],
   "source": [
    "# Save word vectors and labels\n",
    "np.save('word_embeddings/training_vectors.npy', vectors_train)\n",
    "np.save('word_embeddings/training_labels.npy', y_train_proc)"
   ]
  },
  {
   "cell_type": "code",
   "execution_count": 50,
   "metadata": {},
   "outputs": [
    {
     "name": "stdout",
     "output_type": "stream",
     "text": [
      "(3321, 300)\n",
      "(3321, 9)\n"
     ]
    }
   ],
   "source": [
    "# Load word vectors and labels into numpy arrays\n",
    "vectors_train = np.load('word_embeddings/training_vectors.npy')\n",
    "y_train_proc = np.load('word_embeddings/training_labels.npy')\n",
    "\n",
    "# Check to see if they have the correct shape\n",
    "print(vectors_train.shape)\n",
    "print(y_train_proc.shape)"
   ]
  },
  {
   "cell_type": "markdown",
   "metadata": {},
   "source": [
    "## Resample Data\n",
    "---"
   ]
  },
  {
   "cell_type": "code",
   "execution_count": 51,
   "metadata": {},
   "outputs": [
    {
     "name": "stdout",
     "output_type": "stream",
     "text": [
      "Resampled vectors shape: (8577, 300)\n",
      "Resampled labels shape: (8577, 9)\n",
      "y_resampled shape: (8577, 9)\n",
      "y_resampled samples:\n",
      "[[1 0 0 0 0 0 0 0 0]\n",
      " [0 1 0 0 0 0 0 0 0]\n",
      " [0 1 0 0 0 0 0 0 0]\n",
      " [0 0 1 0 0 0 0 0 0]\n",
      " [0 0 0 1 0 0 0 0 0]]\n"
     ]
    }
   ],
   "source": [
    "# Resample the data using imbalanced-learn and SMOTE\n",
    "X_resampled, y_resampled = resample_data(vectors_train, variants_train['Class'])\n",
    "\n",
    "# Transform labels into one hot encoded format.\n",
    "y_resampled = label_binarize(y_resampled, classes=[1, 2, 3, 4, 5, 6, 7, 8, 9])\n",
    "\n",
    "print('Resampled vectors shape:', X_resampled.shape)\n",
    "print('Resampled labels shape:', y_resampled.shape)\n",
    "print('y_resampled shape: {}'.format(y_resampled.shape))\n",
    "print('y_resampled samples:')\n",
    "print(y_resampled[:5])"
   ]
  },
  {
   "cell_type": "markdown",
   "metadata": {},
   "source": [
    "## Split Word Embeddings Into Train/Test Sets\n",
    "---"
   ]
  },
  {
   "cell_type": "code",
   "execution_count": 52,
   "metadata": {},
   "outputs": [
    {
     "name": "stdout",
     "output_type": "stream",
     "text": [
      "X_train size: (6861, 300)\n",
      "X_val size: (1716, 300)\n",
      "y_train size: (6861, 9)\n",
      "y_val size: (1716, 9)\n"
     ]
    }
   ],
   "source": [
    "# Split into training and testing sets\n",
    "\n",
    "X_train, X_test, y_train, y_test = split_data(X_resampled, y_resampled)\n",
    "\n",
    "print('X_train size: {}'.format(X_train.shape))\n",
    "print('X_val size: {}'.format(X_test.shape))\n",
    "print('y_train size: {}'.format(y_train.shape))\n",
    "print('y_val size: {}'.format(y_test.shape))"
   ]
  },
  {
   "cell_type": "markdown",
   "metadata": {},
   "source": [
    "# Train With Keras Models\n",
    "---\n",
    "Using multi-layer perceptron, convolutional neural network, and recurrent neural network (LSTM)"
   ]
  },
  {
   "cell_type": "code",
   "execution_count": 53,
   "metadata": {},
   "outputs": [
    {
     "name": "stdout",
     "output_type": "stream",
     "text": [
      "Text train shape:  (1716, 300, 1)\n",
      "Text test shape:  (1716, 300, 1)\n",
      "Labels train shape:  (6861, 9)\n",
      "Labels test shape:  (1716, 9)\n"
     ]
    }
   ],
   "source": [
    "# Expand dimensions to avoid errors when fitting data to keras model\n",
    "\n",
    "# vectors_train = np.expand_dims(vectors_train, axis=2)\n",
    "# print(vectors_train.shape)\n",
    "# print(y_train_proc.shape)\n",
    "\n",
    "X_train = np.expand_dims(X_train, axis=2)\n",
    "X_test = np.expand_dims(X_test, axis=2)\n",
    "print('Text train shape: ', X_test.shape)\n",
    "print('Text test shape: ', X_test.shape)\n",
    "print('Labels train shape: ', y_train.shape)\n",
    "print('Labels test shape: ', y_test.shape)"
   ]
  },
  {
   "cell_type": "code",
   "execution_count": 54,
   "metadata": {},
   "outputs": [
    {
     "name": "stdout",
     "output_type": "stream",
     "text": [
      "Variables deleted\n"
     ]
    }
   ],
   "source": [
    "# Free up some memory\n",
    "try:\n",
    "    del vectors_train, y_train_proc\n",
    "    print('Variables deleted')\n",
    "except NameError:\n",
    "        print('Already deleted')"
   ]
  },
  {
   "cell_type": "code",
   "execution_count": 47,
   "metadata": {},
   "outputs": [
    {
     "name": "stdout",
     "output_type": "stream",
     "text": [
      "_________________________________________________________________\n",
      "Layer (type)                 Output Shape              Param #   \n",
      "=================================================================\n",
      "input_3 (InputLayer)         (None, 300, 1)            0         \n",
      "_________________________________________________________________\n",
      "conv1d_3 (Conv1D)            (None, 300, 64)           256       \n",
      "_________________________________________________________________\n",
      "max_pooling1d_2 (MaxPooling1 (None, 150, 64)           0         \n",
      "_________________________________________________________________\n",
      "conv1d_4 (Conv1D)            (None, 150, 128)          24704     \n",
      "_________________________________________________________________\n",
      "global_max_pooling1d_2 (Glob (None, 128)               0         \n",
      "_________________________________________________________________\n",
      "dense_3 (Dense)              (None, 9)                 1161      \n",
      "=================================================================\n",
      "Total params: 26,121\n",
      "Trainable params: 26,121\n",
      "Non-trainable params: 0\n",
      "_________________________________________________________________\n"
     ]
    }
   ],
   "source": [
    "# Define keras model\n",
    "\n",
    "'''# Densely Connected Neural Network\n",
    "# Log loss: 1.397288\n",
    "# Kaggle Log Loss: 2.47576\n",
    "model = Sequential()\n",
    "\n",
    "model.add(Dense(512, activation='relu', kernel_initializer='he_normal', input_dim=300))\n",
    "model.add(Dropout(0.2))\n",
    "model.add(Dense(512, activation='relu', kernel_initializer='he_normal'))\n",
    "model.add(Dropout(0.2))\n",
    "model.add(Dense(512, activation='relu', kernel_initializer='he_normal'))\n",
    "model.add(Dropout(0.2))\n",
    "model.add(Dense(512, activation='relu', kernel_initializer='he_normal'))\n",
    "model.add(Dropout(0.2))\n",
    "model.add(Dense(9, activation='softmax'))\n",
    "'''\n",
    "\n",
    "\n",
    "# Convolutional Neural Network  Log loss w/ 25 epochs: ~2.10795. Log loss with 100 epochs: ~1.44532\n",
    "# Kaggle Log loss w/100 epochs: 2.96044\n",
    "inputs = Input(shape=(300,1))\n",
    "\n",
    "x = Conv1D(64, 3, strides=1, padding='same', activation='relu')(inputs)\n",
    "\n",
    "#Cuts the size of the output in half, maxing over every 2 inputs\n",
    "x = MaxPooling1D(pool_size=2)(x)\n",
    "x = Conv1D(128, 3, strides=1, padding='same', activation='relu')(x)\n",
    "x = GlobalMaxPooling1D()(x) \n",
    "outputs = Dense(9, activation='softmax')(x)\n",
    "\n",
    "model = Model(inputs=inputs, outputs=outputs)\n",
    "\n",
    "\n",
    "'''# Bidirectional LSTM   Log loss: ~1.77028\n",
    "# Kaggle Log loss: 2.04779\n",
    "inputs = Input(shape=(300,1))\n",
    "\n",
    "x = Bidirectional(LSTM(64, return_sequences=True),   # I tried 1024 neurons but training was far too slow\n",
    "                  merge_mode='concat')(inputs)\n",
    "x = Dropout(0.2)(x)\n",
    "x = Flatten()(x)\n",
    "outputs = Dense(9, activation='softmax')(x)\n",
    "\n",
    "model = Model(inputs=inputs, outputs=outputs)\n",
    "'''\n",
    "\n",
    "model.summary()"
   ]
  },
  {
   "cell_type": "code",
   "execution_count": 48,
   "metadata": {
    "collapsed": true
   },
   "outputs": [],
   "source": [
    "# Compile the model\n",
    "sgd = SGD(lr=0.01, decay=1e-6, momentum=0.9, nesterov=True)\n",
    "model.compile(optimizer=sgd, loss='categorical_crossentropy', metrics=['acc'])"
   ]
  },
  {
   "cell_type": "code",
   "execution_count": 55,
   "metadata": {},
   "outputs": [
    {
     "name": "stdout",
     "output_type": "stream",
     "text": [
      "Train on 5488 samples, validate on 1373 samples\n",
      "Epoch 1/100\n",
      "5450/5488 [============================>.] - ETA: 0s - loss: 2.1986 - acc: 0.1125Epoch 00000: val_loss improved from inf to 2.20274, saving model to saved_models/weights.best.conv.25epochs.hdf5\n",
      "5488/5488 [==============================] - 15s - loss: 2.1985 - acc: 0.1128 - val_loss: 2.2027 - val_acc: 0.0932\n",
      "Epoch 2/100\n",
      "5450/5488 [============================>.] - ETA: 0s - loss: 2.1974 - acc: 0.1206Epoch 00001: val_loss improved from 2.20274 to 2.19455, saving model to saved_models/weights.best.conv.25epochs.hdf5\n",
      "5488/5488 [==============================] - 16s - loss: 2.1974 - acc: 0.1206 - val_loss: 2.1945 - val_acc: 0.1122\n",
      "Epoch 3/100\n",
      "5450/5488 [============================>.] - ETA: 0s - loss: 2.1966 - acc: 0.1165Epoch 00002: val_loss did not improve\n",
      "5488/5488 [==============================] - 16s - loss: 2.1965 - acc: 0.1168 - val_loss: 2.1955 - val_acc: 0.0932\n",
      "Epoch 4/100\n",
      "5450/5488 [============================>.] - ETA: 0s - loss: 2.1957 - acc: 0.1156Epoch 00003: val_loss did not improve\n",
      "5488/5488 [==============================] - 14s - loss: 2.1957 - acc: 0.1161 - val_loss: 2.1985 - val_acc: 0.1071\n",
      "Epoch 5/100\n",
      "5450/5488 [============================>.] - ETA: 0s - loss: 2.1953 - acc: 0.1213Epoch 00004: val_loss did not improve\n",
      "5488/5488 [==============================] - 15s - loss: 2.1953 - acc: 0.1210 - val_loss: 2.1958 - val_acc: 0.1158\n",
      "Epoch 6/100\n",
      "5450/5488 [============================>.] - ETA: 0s - loss: 2.1945 - acc: 0.1228Epoch 00005: val_loss improved from 2.19455 to 2.19216, saving model to saved_models/weights.best.conv.25epochs.hdf5\n",
      "5488/5488 [==============================] - 14s - loss: 2.1946 - acc: 0.1226 - val_loss: 2.1922 - val_acc: 0.1296\n",
      "Epoch 7/100\n",
      "5450/5488 [============================>.] - ETA: 0s - loss: 2.1944 - acc: 0.1169Epoch 00006: val_loss did not improve\n",
      "5488/5488 [==============================] - 14s - loss: 2.1944 - acc: 0.1172 - val_loss: 2.1927 - val_acc: 0.1428\n",
      "Epoch 8/100\n",
      "5450/5488 [============================>.] - ETA: 0s - loss: 2.1920 - acc: 0.1371Epoch 00007: val_loss improved from 2.19216 to 2.19213, saving model to saved_models/weights.best.conv.25epochs.hdf5\n",
      "5488/5488 [==============================] - 15s - loss: 2.1919 - acc: 0.1374 - val_loss: 2.1921 - val_acc: 0.1828\n",
      "Epoch 9/100\n",
      "5450/5488 [============================>.] - ETA: 0s - loss: 2.1922 - acc: 0.1217Epoch 00008: val_loss did not improve\n",
      "5488/5488 [==============================] - 14s - loss: 2.1921 - acc: 0.1224 - val_loss: 2.1924 - val_acc: 0.1639\n",
      "Epoch 10/100\n",
      "5450/5488 [============================>.] - ETA: 0s - loss: 2.1919 - acc: 0.1439Epoch 00009: val_loss did not improve\n",
      "5488/5488 [==============================] - 14s - loss: 2.1918 - acc: 0.1434 - val_loss: 2.1956 - val_acc: 0.0881\n",
      "Epoch 11/100\n",
      "5450/5488 [============================>.] - ETA: 0s - loss: 2.1903 - acc: 0.1308Epoch 00010: val_loss improved from 2.19213 to 2.19104, saving model to saved_models/weights.best.conv.25epochs.hdf5\n",
      "5488/5488 [==============================] - 15s - loss: 2.1903 - acc: 0.1305 - val_loss: 2.1910 - val_acc: 0.1442\n",
      "Epoch 12/100\n",
      "5450/5488 [============================>.] - ETA: 0s - loss: 2.1893 - acc: 0.1360Epoch 00011: val_loss improved from 2.19104 to 2.18832, saving model to saved_models/weights.best.conv.25epochs.hdf5\n",
      "5488/5488 [==============================] - 14s - loss: 2.1893 - acc: 0.1359 - val_loss: 2.1883 - val_acc: 0.1173\n",
      "Epoch 13/100\n",
      "5450/5488 [============================>.] - ETA: 0s - loss: 2.1885 - acc: 0.1266Epoch 00012: val_loss improved from 2.18832 to 2.18658, saving model to saved_models/weights.best.conv.25epochs.hdf5\n",
      "5488/5488 [==============================] - 14s - loss: 2.1884 - acc: 0.1268 - val_loss: 2.1866 - val_acc: 0.1114\n",
      "Epoch 14/100\n",
      "5450/5488 [============================>.] - ETA: 0s - loss: 2.1867 - acc: 0.1396Epoch 00013: val_loss did not improve\n",
      "5488/5488 [==============================] - 14s - loss: 2.1867 - acc: 0.1394 - val_loss: 2.1869 - val_acc: 0.1959\n",
      "Epoch 15/100\n",
      "5450/5488 [============================>.] - ETA: 0s - loss: 2.1850 - acc: 0.1527Epoch 00014: val_loss improved from 2.18658 to 2.18311, saving model to saved_models/weights.best.conv.25epochs.hdf5\n",
      "5488/5488 [==============================] - 16s - loss: 2.1847 - acc: 0.1534 - val_loss: 2.1831 - val_acc: 0.1231\n",
      "Epoch 16/100\n",
      "5450/5488 [============================>.] - ETA: 0s - loss: 2.1823 - acc: 0.1378Epoch 00015: val_loss improved from 2.18311 to 2.18141, saving model to saved_models/weights.best.conv.25epochs.hdf5\n",
      "5488/5488 [==============================] - 14s - loss: 2.1824 - acc: 0.1378 - val_loss: 2.1814 - val_acc: 0.0954\n",
      "Epoch 17/100\n",
      "5450/5488 [============================>.] - ETA: 0s - loss: 2.1803 - acc: 0.1569Epoch 00016: val_loss improved from 2.18141 to 2.17801, saving model to saved_models/weights.best.conv.25epochs.hdf5\n",
      "5488/5488 [==============================] - 16s - loss: 2.1801 - acc: 0.1574 - val_loss: 2.1780 - val_acc: 0.1151\n",
      "Epoch 18/100\n",
      "5450/5488 [============================>.] - ETA: 0s - loss: 2.1778 - acc: 0.1473Epoch 00017: val_loss improved from 2.17801 to 2.17706, saving model to saved_models/weights.best.conv.25epochs.hdf5\n",
      "5488/5488 [==============================] - 16s - loss: 2.1777 - acc: 0.1476 - val_loss: 2.1771 - val_acc: 0.1872\n",
      "Epoch 19/100\n",
      "5450/5488 [============================>.] - ETA: 0s - loss: 2.1737 - acc: 0.1587Epoch 00018: val_loss improved from 2.17706 to 2.17012, saving model to saved_models/weights.best.conv.25epochs.hdf5\n",
      "5488/5488 [==============================] - 14s - loss: 2.1739 - acc: 0.1582 - val_loss: 2.1701 - val_acc: 0.2454\n",
      "Epoch 20/100\n",
      "5450/5488 [============================>.] - ETA: 0s - loss: 2.1690 - acc: 0.1783Epoch 00019: val_loss improved from 2.17012 to 2.16491, saving model to saved_models/weights.best.conv.25epochs.hdf5\n",
      "5488/5488 [==============================] - 14s - loss: 2.1688 - acc: 0.1789 - val_loss: 2.1649 - val_acc: 0.1726\n",
      "Epoch 21/100\n",
      "5450/5488 [============================>.] - ETA: 0s - loss: 2.1638 - acc: 0.1585Epoch 00020: val_loss improved from 2.16491 to 2.15712, saving model to saved_models/weights.best.conv.25epochs.hdf5\n",
      "5488/5488 [==============================] - 15s - loss: 2.1639 - acc: 0.1587 - val_loss: 2.1571 - val_acc: 0.2221\n",
      "Epoch 22/100\n",
      "5450/5488 [============================>.] - ETA: 0s - loss: 2.1592 - acc: 0.1765Epoch 00021: val_loss did not improve\n",
      "5488/5488 [==============================] - 15s - loss: 2.1591 - acc: 0.1767 - val_loss: 2.1597 - val_acc: 0.1340\n",
      "Epoch 23/100\n",
      "5450/5488 [============================>.] - ETA: 0s - loss: 2.1527 - acc: 0.1837Epoch 00022: val_loss improved from 2.15712 to 2.14213, saving model to saved_models/weights.best.conv.25epochs.hdf5\n",
      "5488/5488 [==============================] - 15s - loss: 2.1527 - acc: 0.1840 - val_loss: 2.1421 - val_acc: 0.1894\n",
      "Epoch 24/100\n",
      "5450/5488 [============================>.] - ETA: 0s - loss: 2.1464 - acc: 0.1804Epoch 00023: val_loss improved from 2.14213 to 2.13686, saving model to saved_models/weights.best.conv.25epochs.hdf5\n",
      "5488/5488 [==============================] - 15s - loss: 2.1467 - acc: 0.1802 - val_loss: 2.1369 - val_acc: 0.1894\n",
      "Epoch 25/100\n",
      "5450/5488 [============================>.] - ETA: 0s - loss: 2.1372 - acc: 0.1978Epoch 00024: val_loss improved from 2.13686 to 2.11985, saving model to saved_models/weights.best.conv.25epochs.hdf5\n",
      "5488/5488 [==============================] - 14s - loss: 2.1372 - acc: 0.1977 - val_loss: 2.1198 - val_acc: 0.2105\n",
      "Epoch 26/100\n",
      "5450/5488 [============================>.] - ETA: 0s - loss: 2.1286 - acc: 0.1947Epoch 00025: val_loss improved from 2.11985 to 2.11602, saving model to saved_models/weights.best.conv.25epochs.hdf5\n",
      "5488/5488 [==============================] - 14s - loss: 2.1283 - acc: 0.1948 - val_loss: 2.1160 - val_acc: 0.1668\n",
      "Epoch 27/100\n",
      "5450/5488 [============================>.] - ETA: 0s - loss: 2.1207 - acc: 0.1949Epoch 00026: val_loss improved from 2.11602 to 2.11467, saving model to saved_models/weights.best.conv.25epochs.hdf5\n",
      "5488/5488 [==============================] - 14s - loss: 2.1210 - acc: 0.1942 - val_loss: 2.1147 - val_acc: 0.1624\n",
      "Epoch 28/100\n",
      "5450/5488 [============================>.] - ETA: 0s - loss: 2.1133 - acc: 0.2101Epoch 00027: val_loss improved from 2.11467 to 2.09116, saving model to saved_models/weights.best.conv.25epochs.hdf5\n",
      "5488/5488 [==============================] - 15s - loss: 2.1135 - acc: 0.2094 - val_loss: 2.0912 - val_acc: 0.2403\n",
      "Epoch 29/100\n",
      "5450/5488 [============================>.] - ETA: 0s - loss: 2.1066 - acc: 0.2171Epoch 00028: val_loss improved from 2.09116 to 2.08760, saving model to saved_models/weights.best.conv.25epochs.hdf5\n",
      "5488/5488 [==============================] - 15s - loss: 2.1065 - acc: 0.2176 - val_loss: 2.0876 - val_acc: 0.2382\n",
      "Epoch 30/100\n",
      "5450/5488 [============================>.] - ETA: 0s - loss: 2.0975 - acc: 0.2286Epoch 00029: val_loss improved from 2.08760 to 2.07595, saving model to saved_models/weights.best.conv.25epochs.hdf5\n",
      "5488/5488 [==============================] - 16s - loss: 2.0983 - acc: 0.2274 - val_loss: 2.0760 - val_acc: 0.2447\n",
      "Epoch 31/100\n",
      "5450/5488 [============================>.] - ETA: 0s - loss: 2.0905 - acc: 0.2264Epoch 00030: val_loss improved from 2.07595 to 2.07381, saving model to saved_models/weights.best.conv.25epochs.hdf5\n",
      "5488/5488 [==============================] - 15s - loss: 2.0907 - acc: 0.2263 - val_loss: 2.0738 - val_acc: 0.2353\n",
      "Epoch 32/100\n",
      "5450/5488 [============================>.] - ETA: 0s - loss: 2.0862 - acc: 0.2207Epoch 00031: val_loss improved from 2.07381 to 2.06685, saving model to saved_models/weights.best.conv.25epochs.hdf5\n",
      "5488/5488 [==============================] - 18s - loss: 2.0866 - acc: 0.2201 - val_loss: 2.0668 - val_acc: 0.2724\n",
      "Epoch 33/100\n",
      "5450/5488 [============================>.] - ETA: 0s - loss: 2.0785 - acc: 0.2347Epoch 00032: val_loss improved from 2.06685 to 2.05375, saving model to saved_models/weights.best.conv.25epochs.hdf5\n",
      "5488/5488 [==============================] - 15s - loss: 2.0789 - acc: 0.2343 - val_loss: 2.0538 - val_acc: 0.2251\n",
      "Epoch 34/100\n",
      "5450/5488 [============================>.] - ETA: 0s - loss: 2.0705 - acc: 0.2415Epoch 00033: val_loss improved from 2.05375 to 2.04690, saving model to saved_models/weights.best.conv.25epochs.hdf5\n",
      "5488/5488 [==============================] - 15s - loss: 2.0704 - acc: 0.2414 - val_loss: 2.0469 - val_acc: 0.2586\n",
      "Epoch 35/100\n",
      "5450/5488 [============================>.] - ETA: 0s - loss: 2.0641 - acc: 0.2394Epoch 00034: val_loss improved from 2.04690 to 2.04369, saving model to saved_models/weights.best.conv.25epochs.hdf5\n",
      "5488/5488 [==============================] - 17s - loss: 2.0640 - acc: 0.2392 - val_loss: 2.0437 - val_acc: 0.2513\n",
      "Epoch 36/100\n",
      "5450/5488 [============================>.] - ETA: 0s - loss: 2.0567 - acc: 0.2451Epoch 00035: val_loss improved from 2.04369 to 2.03397, saving model to saved_models/weights.best.conv.25epochs.hdf5\n",
      "5488/5488 [==============================] - 14s - loss: 2.0559 - acc: 0.2462 - val_loss: 2.0340 - val_acc: 0.2454\n",
      "Epoch 37/100\n",
      "5450/5488 [============================>.] - ETA: 0s - loss: 2.0469 - acc: 0.2483Epoch 00036: val_loss improved from 2.03397 to 2.02378, saving model to saved_models/weights.best.conv.25epochs.hdf5\n",
      "5488/5488 [==============================] - 15s - loss: 2.0478 - acc: 0.2480 - val_loss: 2.0238 - val_acc: 0.2913\n",
      "Epoch 38/100\n",
      "5450/5488 [============================>.] - ETA: 0s - loss: 2.0392 - acc: 0.2628Epoch 00037: val_loss improved from 2.02378 to 2.01112, saving model to saved_models/weights.best.conv.25epochs.hdf5\n",
      "5488/5488 [==============================] - 15s - loss: 2.0391 - acc: 0.2622 - val_loss: 2.0111 - val_acc: 0.2484\n",
      "Epoch 39/100\n",
      "5450/5488 [============================>.] - ETA: 0s - loss: 2.0295 - acc: 0.2578Epoch 00038: val_loss improved from 2.01112 to 2.00617, saving model to saved_models/weights.best.conv.25epochs.hdf5\n",
      "5488/5488 [==============================] - 15s - loss: 2.0298 - acc: 0.2571 - val_loss: 2.0062 - val_acc: 0.2680\n",
      "Epoch 40/100\n",
      "5450/5488 [============================>.] - ETA: 0s - loss: 2.0264 - acc: 0.2545Epoch 00039: val_loss improved from 2.00617 to 2.00107, saving model to saved_models/weights.best.conv.25epochs.hdf5\n",
      "5488/5488 [==============================] - 15s - loss: 2.0260 - acc: 0.2547 - val_loss: 2.0011 - val_acc: 0.2840\n",
      "Epoch 41/100\n",
      "5450/5488 [============================>.] - ETA: 0s - loss: 2.0163 - acc: 0.2699Epoch 00040: val_loss improved from 2.00107 to 1.98494, saving model to saved_models/weights.best.conv.25epochs.hdf5\n",
      "5488/5488 [==============================] - 15s - loss: 2.0166 - acc: 0.2697 - val_loss: 1.9849 - val_acc: 0.2913\n",
      "Epoch 42/100\n",
      "5450/5488 [============================>.] - ETA: 0s - loss: 2.0041 - acc: 0.2712Epoch 00041: val_loss improved from 1.98494 to 1.98089, saving model to saved_models/weights.best.conv.25epochs.hdf5\n",
      "5488/5488 [==============================] - 15s - loss: 2.0035 - acc: 0.2715 - val_loss: 1.9809 - val_acc: 0.2840\n",
      "Epoch 43/100\n",
      "5450/5488 [============================>.] - ETA: 0s - loss: 1.9955 - acc: 0.2721Epoch 00042: val_loss improved from 1.98089 to 1.96767, saving model to saved_models/weights.best.conv.25epochs.hdf5\n",
      "5488/5488 [==============================] - 15s - loss: 1.9946 - acc: 0.2731 - val_loss: 1.9677 - val_acc: 0.2964\n",
      "Epoch 44/100\n",
      "5450/5488 [============================>.] - ETA: 0s - loss: 1.9854 - acc: 0.2848Epoch 00043: val_loss improved from 1.96767 to 1.94895, saving model to saved_models/weights.best.conv.25epochs.hdf5\n",
      "5488/5488 [==============================] - 15s - loss: 1.9852 - acc: 0.2848 - val_loss: 1.9489 - val_acc: 0.2833\n",
      "Epoch 45/100\n",
      "5450/5488 [============================>.] - ETA: 0s - loss: 1.9795 - acc: 0.2750Epoch 00044: val_loss improved from 1.94895 to 1.94240, saving model to saved_models/weights.best.conv.25epochs.hdf5\n",
      "5488/5488 [==============================] - 15s - loss: 1.9794 - acc: 0.2748 - val_loss: 1.9424 - val_acc: 0.2891\n",
      "Epoch 46/100\n",
      "5450/5488 [============================>.] - ETA: 0s - loss: 1.9642 - acc: 0.2872Epoch 00045: val_loss improved from 1.94240 to 1.94057, saving model to saved_models/weights.best.conv.25epochs.hdf5\n",
      "5488/5488 [==============================] - 14s - loss: 1.9643 - acc: 0.2866 - val_loss: 1.9406 - val_acc: 0.3008\n",
      "Epoch 47/100\n",
      "5450/5488 [============================>.] - ETA: 0s - loss: 1.9565 - acc: 0.2848Epoch 00046: val_loss improved from 1.94057 to 1.93487, saving model to saved_models/weights.best.conv.25epochs.hdf5\n",
      "5488/5488 [==============================] - 14s - loss: 1.9571 - acc: 0.2848 - val_loss: 1.9349 - val_acc: 0.2760\n",
      "Epoch 48/100\n",
      "5450/5488 [============================>.] - ETA: 0s - loss: 1.9475 - acc: 0.2828Epoch 00047: val_loss improved from 1.93487 to 1.92228, saving model to saved_models/weights.best.conv.25epochs.hdf5\n",
      "5488/5488 [==============================] - 14s - loss: 1.9478 - acc: 0.2824 - val_loss: 1.9223 - val_acc: 0.2688\n",
      "Epoch 49/100\n",
      "5450/5488 [============================>.] - ETA: 0s - loss: 1.9350 - acc: 0.2897Epoch 00048: val_loss improved from 1.92228 to 1.90177, saving model to saved_models/weights.best.conv.25epochs.hdf5\n",
      "5488/5488 [==============================] - 14s - loss: 1.9346 - acc: 0.2897 - val_loss: 1.9018 - val_acc: 0.3015\n",
      "Epoch 50/100\n",
      "5450/5488 [============================>.] - ETA: 0s - loss: 1.9229 - acc: 0.3105Epoch 00049: val_loss did not improve\n",
      "5488/5488 [==============================] - 14s - loss: 1.9226 - acc: 0.3094 - val_loss: 1.9263 - val_acc: 0.2964\n",
      "Epoch 51/100\n",
      "5450/5488 [============================>.] - ETA: 0s - loss: 1.9181 - acc: 0.3057Epoch 00050: val_loss improved from 1.90177 to 1.87376, saving model to saved_models/weights.best.conv.25epochs.hdf5\n",
      "5488/5488 [==============================] - 14s - loss: 1.9179 - acc: 0.3070 - val_loss: 1.8738 - val_acc: 0.3292\n",
      "Epoch 52/100\n",
      "5450/5488 [============================>.] - ETA: 0s - loss: 1.9101 - acc: 0.3077Epoch 00051: val_loss did not improve\n",
      "5488/5488 [==============================] - 14s - loss: 1.9101 - acc: 0.3074 - val_loss: 1.8824 - val_acc: 0.3103\n",
      "Epoch 53/100\n"
     ]
    },
    {
     "name": "stdout",
     "output_type": "stream",
     "text": [
      "5450/5488 [============================>.] - ETA: 0s - loss: 1.8943 - acc: 0.3204Epoch 00052: val_loss did not improve\n",
      "5488/5488 [==============================] - 14s - loss: 1.8941 - acc: 0.3207 - val_loss: 1.8812 - val_acc: 0.2870\n",
      "Epoch 54/100\n",
      "5450/5488 [============================>.] - ETA: 0s - loss: 1.8818 - acc: 0.3202Epoch 00053: val_loss improved from 1.87376 to 1.86071, saving model to saved_models/weights.best.conv.25epochs.hdf5\n",
      "5488/5488 [==============================] - 14s - loss: 1.8814 - acc: 0.3211 - val_loss: 1.8607 - val_acc: 0.3328\n",
      "Epoch 55/100\n",
      "5450/5488 [============================>.] - ETA: 0s - loss: 1.8654 - acc: 0.3292Epoch 00054: val_loss did not improve\n",
      "5488/5488 [==============================] - 14s - loss: 1.8655 - acc: 0.3285 - val_loss: 1.8892 - val_acc: 0.2993\n",
      "Epoch 56/100\n",
      "5450/5488 [============================>.] - ETA: 0s - loss: 1.8583 - acc: 0.3277Epoch 00055: val_loss improved from 1.86071 to 1.85386, saving model to saved_models/weights.best.conv.25epochs.hdf5\n",
      "5488/5488 [==============================] - 14s - loss: 1.8573 - acc: 0.3278 - val_loss: 1.8539 - val_acc: 0.3081\n",
      "Epoch 57/100\n",
      "5450/5488 [============================>.] - ETA: 0s - loss: 1.8466 - acc: 0.3284Epoch 00056: val_loss improved from 1.85386 to 1.80588, saving model to saved_models/weights.best.conv.25epochs.hdf5\n",
      "5488/5488 [==============================] - 14s - loss: 1.8464 - acc: 0.3293 - val_loss: 1.8059 - val_acc: 0.3540\n",
      "Epoch 58/100\n",
      "5450/5488 [============================>.] - ETA: 0s - loss: 1.8288 - acc: 0.3473Epoch 00057: val_loss improved from 1.80588 to 1.79889, saving model to saved_models/weights.best.conv.25epochs.hdf5\n",
      "5488/5488 [==============================] - 14s - loss: 1.8285 - acc: 0.3473 - val_loss: 1.7989 - val_acc: 0.3729\n",
      "Epoch 59/100\n",
      "5450/5488 [============================>.] - ETA: 0s - loss: 1.8155 - acc: 0.3490Epoch 00058: val_loss improved from 1.79889 to 1.78061, saving model to saved_models/weights.best.conv.25epochs.hdf5\n",
      "5488/5488 [==============================] - 14s - loss: 1.8158 - acc: 0.3484 - val_loss: 1.7806 - val_acc: 0.3569\n",
      "Epoch 60/100\n",
      "5450/5488 [============================>.] - ETA: 0s - loss: 1.8036 - acc: 0.3560Epoch 00059: val_loss did not improve\n",
      "5488/5488 [==============================] - 15s - loss: 1.8022 - acc: 0.3562 - val_loss: 1.7817 - val_acc: 0.3569\n",
      "Epoch 61/100\n",
      "5450/5488 [============================>.] - ETA: 0s - loss: 1.7922 - acc: 0.3521Epoch 00060: val_loss improved from 1.78061 to 1.76238, saving model to saved_models/weights.best.conv.25epochs.hdf5\n",
      "5488/5488 [==============================] - 14s - loss: 1.7913 - acc: 0.3520 - val_loss: 1.7624 - val_acc: 0.3336\n",
      "Epoch 62/100\n",
      "5450/5488 [============================>.] - ETA: 0s - loss: 1.7801 - acc: 0.3620Epoch 00061: val_loss improved from 1.76238 to 1.72192, saving model to saved_models/weights.best.conv.25epochs.hdf5\n",
      "5488/5488 [==============================] - 14s - loss: 1.7808 - acc: 0.3621 - val_loss: 1.7219 - val_acc: 0.3642\n",
      "Epoch 63/100\n",
      "5450/5488 [============================>.] - ETA: 0s - loss: 1.7645 - acc: 0.3734Epoch 00062: val_loss improved from 1.72192 to 1.72040, saving model to saved_models/weights.best.conv.25epochs.hdf5\n",
      "5488/5488 [==============================] - 14s - loss: 1.7646 - acc: 0.3726 - val_loss: 1.7204 - val_acc: 0.3664\n",
      "Epoch 64/100\n",
      "5450/5488 [============================>.] - ETA: 0s - loss: 1.7517 - acc: 0.3688Epoch 00063: val_loss did not improve\n",
      "5488/5488 [==============================] - 16s - loss: 1.7509 - acc: 0.3697 - val_loss: 1.7405 - val_acc: 0.3700\n",
      "Epoch 65/100\n",
      "5450/5488 [============================>.] - ETA: 0s - loss: 1.7391 - acc: 0.3842Epoch 00064: val_loss improved from 1.72040 to 1.68831, saving model to saved_models/weights.best.conv.25epochs.hdf5\n",
      "5488/5488 [==============================] - 15s - loss: 1.7407 - acc: 0.3836 - val_loss: 1.6883 - val_acc: 0.4516\n",
      "Epoch 66/100\n",
      "5450/5488 [============================>.] - ETA: 0s - loss: 1.7263 - acc: 0.3980Epoch 00065: val_loss improved from 1.68831 to 1.65109, saving model to saved_models/weights.best.conv.25epochs.hdf5\n",
      "5488/5488 [==============================] - 14s - loss: 1.7269 - acc: 0.3978 - val_loss: 1.6511 - val_acc: 0.3969\n",
      "Epoch 67/100\n",
      "5450/5488 [============================>.] - ETA: 0s - loss: 1.7150 - acc: 0.3870Epoch 00066: val_loss improved from 1.65109 to 1.63702, saving model to saved_models/weights.best.conv.25epochs.hdf5\n",
      "5488/5488 [==============================] - 14s - loss: 1.7141 - acc: 0.3874 - val_loss: 1.6370 - val_acc: 0.4188\n",
      "Epoch 68/100\n",
      "5450/5488 [============================>.] - ETA: 0s - loss: 1.7010 - acc: 0.3989Epoch 00067: val_loss did not improve\n",
      "5488/5488 [==============================] - 14s - loss: 1.7001 - acc: 0.3998 - val_loss: 1.7071 - val_acc: 0.4392\n",
      "Epoch 69/100\n",
      "5450/5488 [============================>.] - ETA: 0s - loss: 1.6930 - acc: 0.4075Epoch 00068: val_loss improved from 1.63702 to 1.61603, saving model to saved_models/weights.best.conv.25epochs.hdf5\n",
      "5488/5488 [==============================] - 14s - loss: 1.6927 - acc: 0.4073 - val_loss: 1.6160 - val_acc: 0.4414\n",
      "Epoch 70/100\n",
      "5450/5488 [============================>.] - ETA: 0s - loss: 1.6848 - acc: 0.4128Epoch 00069: val_loss did not improve\n",
      "5488/5488 [==============================] - 14s - loss: 1.6851 - acc: 0.4133 - val_loss: 1.6670 - val_acc: 0.4355\n",
      "Epoch 71/100\n",
      "5450/5488 [============================>.] - ETA: 0s - loss: 1.6715 - acc: 0.4108Epoch 00070: val_loss did not improve\n",
      "5488/5488 [==============================] - 14s - loss: 1.6725 - acc: 0.4098 - val_loss: 1.6384 - val_acc: 0.4202\n",
      "Epoch 72/100\n",
      "5450/5488 [============================>.] - ETA: 0s - loss: 1.6553 - acc: 0.4235Epoch 00071: val_loss did not improve\n",
      "5488/5488 [==============================] - 16s - loss: 1.6562 - acc: 0.4227 - val_loss: 1.6247 - val_acc: 0.4443\n",
      "Epoch 73/100\n",
      "5450/5488 [============================>.] - ETA: 0s - loss: 1.6522 - acc: 0.4224Epoch 00072: val_loss improved from 1.61603 to 1.59160, saving model to saved_models/weights.best.conv.25epochs.hdf5\n",
      "5488/5488 [==============================] - 15s - loss: 1.6515 - acc: 0.4227 - val_loss: 1.5916 - val_acc: 0.4625\n",
      "Epoch 74/100\n",
      "5450/5488 [============================>.] - ETA: 0s - loss: 1.6420 - acc: 0.4306Epoch 00073: val_loss did not improve\n",
      "5488/5488 [==============================] - 15s - loss: 1.6428 - acc: 0.4311 - val_loss: 1.8113 - val_acc: 0.3758\n",
      "Epoch 75/100\n",
      "5450/5488 [============================>.] - ETA: 0s - loss: 1.6382 - acc: 0.4345Epoch 00074: val_loss improved from 1.59160 to 1.54912, saving model to saved_models/weights.best.conv.25epochs.hdf5\n",
      "5488/5488 [==============================] - 14s - loss: 1.6371 - acc: 0.4346 - val_loss: 1.5491 - val_acc: 0.4894\n",
      "Epoch 76/100\n",
      "5450/5488 [============================>.] - ETA: 0s - loss: 1.6195 - acc: 0.4354Epoch 00075: val_loss did not improve\n",
      "5488/5488 [==============================] - 17s - loss: 1.6211 - acc: 0.4351 - val_loss: 1.6146 - val_acc: 0.4545\n",
      "Epoch 77/100\n",
      "5450/5488 [============================>.] - ETA: 0s - loss: 1.6102 - acc: 0.4431Epoch 00076: val_loss did not improve\n",
      "5488/5488 [==============================] - 15s - loss: 1.6113 - acc: 0.4424 - val_loss: 1.5508 - val_acc: 0.4516\n",
      "Epoch 78/100\n",
      "5450/5488 [============================>.] - ETA: 0s - loss: 1.6077 - acc: 0.4435Epoch 00077: val_loss did not improve\n",
      "5488/5488 [==============================] - 14s - loss: 1.6076 - acc: 0.4433 - val_loss: 1.6800 - val_acc: 0.4042\n",
      "Epoch 79/100\n",
      "5450/5488 [============================>.] - ETA: 0s - loss: 1.5957 - acc: 0.4494Epoch 00078: val_loss did not improve\n",
      "5488/5488 [==============================] - 16s - loss: 1.5944 - acc: 0.4497 - val_loss: 1.5967 - val_acc: 0.4581\n",
      "Epoch 80/100\n",
      "5450/5488 [============================>.] - ETA: 0s - loss: 1.5808 - acc: 0.4503Epoch 00079: val_loss improved from 1.54912 to 1.49152, saving model to saved_models/weights.best.conv.25epochs.hdf5\n",
      "5488/5488 [==============================] - 15s - loss: 1.5788 - acc: 0.4521 - val_loss: 1.4915 - val_acc: 0.5178\n",
      "Epoch 81/100\n",
      "5450/5488 [============================>.] - ETA: 0s - loss: 1.5735 - acc: 0.4607Epoch 00080: val_loss did not improve\n"
     ]
    },
    {
     "name": "stdout",
     "output_type": "stream",
     "text": [
      "5488/5488 [==============================] - 14s - loss: 1.5722 - acc: 0.4621 - val_loss: 1.5756 - val_acc: 0.4683\n",
      "Epoch 82/100\n",
      "5450/5488 [============================>.] - ETA: 0s - loss: 1.5702 - acc: 0.4589Epoch 00081: val_loss did not improve\n",
      "5488/5488 [==============================] - 14s - loss: 1.5711 - acc: 0.4581 - val_loss: 1.6184 - val_acc: 0.4377\n",
      "Epoch 83/100\n",
      "5450/5488 [============================>.] - ETA: 0s - loss: 1.5574 - acc: 0.4572Epoch 00082: val_loss did not improve\n",
      "5488/5488 [==============================] - 14s - loss: 1.5564 - acc: 0.4579 - val_loss: 1.5360 - val_acc: 0.4924\n",
      "Epoch 84/100\n",
      "5450/5488 [============================>.] - ETA: 0s - loss: 1.5548 - acc: 0.4611Epoch 00083: val_loss did not improve\n",
      "5488/5488 [==============================] - 15s - loss: 1.5538 - acc: 0.4619 - val_loss: 1.4973 - val_acc: 0.4975\n",
      "Epoch 85/100\n",
      "5450/5488 [============================>.] - ETA: 0s - loss: 1.5401 - acc: 0.4675Epoch 00084: val_loss did not improve\n",
      "5488/5488 [==============================] - 14s - loss: 1.5404 - acc: 0.4676 - val_loss: 1.5163 - val_acc: 0.4698\n",
      "Epoch 86/100\n",
      "5450/5488 [============================>.] - ETA: 0s - loss: 1.5360 - acc: 0.4668Epoch 00085: val_loss did not improve\n",
      "5488/5488 [==============================] - 15s - loss: 1.5369 - acc: 0.4661 - val_loss: 1.5933 - val_acc: 0.4428\n",
      "Epoch 87/100\n",
      "5450/5488 [============================>.] - ETA: 0s - loss: 1.5205 - acc: 0.4782Epoch 00086: val_loss improved from 1.49152 to 1.46785, saving model to saved_models/weights.best.conv.25epochs.hdf5\n",
      "5488/5488 [==============================] - 15s - loss: 1.5216 - acc: 0.4785 - val_loss: 1.4678 - val_acc: 0.5120\n",
      "Epoch 88/100\n",
      "5450/5488 [============================>.] - ETA: 0s - loss: 1.5213 - acc: 0.4717Epoch 00087: val_loss did not improve\n",
      "5488/5488 [==============================] - 15s - loss: 1.5221 - acc: 0.4714 - val_loss: 1.4711 - val_acc: 0.4851\n",
      "Epoch 89/100\n",
      "5450/5488 [============================>.] - ETA: 0s - loss: 1.5111 - acc: 0.4846Epoch 00088: val_loss did not improve\n",
      "5488/5488 [==============================] - 14s - loss: 1.5097 - acc: 0.4856 - val_loss: 1.5143 - val_acc: 0.4501\n",
      "Epoch 90/100\n",
      "5450/5488 [============================>.] - ETA: 0s - loss: 1.5108 - acc: 0.4745Epoch 00089: val_loss improved from 1.46785 to 1.42373, saving model to saved_models/weights.best.conv.25epochs.hdf5\n",
      "5488/5488 [==============================] - 14s - loss: 1.5094 - acc: 0.4747 - val_loss: 1.4237 - val_acc: 0.5142\n",
      "Epoch 91/100\n",
      "5450/5488 [============================>.] - ETA: 0s - loss: 1.4932 - acc: 0.4824Epoch 00090: val_loss did not improve\n",
      "5488/5488 [==============================] - 14s - loss: 1.4936 - acc: 0.4827 - val_loss: 1.4471 - val_acc: 0.4953\n",
      "Epoch 92/100\n",
      "5450/5488 [============================>.] - ETA: 0s - loss: 1.4929 - acc: 0.4950Epoch 00091: val_loss did not improve\n",
      "5488/5488 [==============================] - 14s - loss: 1.4924 - acc: 0.4947 - val_loss: 1.4253 - val_acc: 0.5157\n",
      "Epoch 93/100\n",
      "5450/5488 [============================>.] - ETA: 0s - loss: 1.4764 - acc: 0.4930Epoch 00092: val_loss did not improve\n",
      "5488/5488 [==============================] - 15s - loss: 1.4766 - acc: 0.4933 - val_loss: 1.4357 - val_acc: 0.5069\n",
      "Epoch 94/100\n",
      "5450/5488 [============================>.] - ETA: 0s - loss: 1.4684 - acc: 0.4969Epoch 00093: val_loss improved from 1.42373 to 1.42335, saving model to saved_models/weights.best.conv.25epochs.hdf5\n",
      "5488/5488 [==============================] - 15s - loss: 1.4693 - acc: 0.4956 - val_loss: 1.4233 - val_acc: 0.5215\n",
      "Epoch 95/100\n",
      "5450/5488 [============================>.] - ETA: 0s - loss: 1.4585 - acc: 0.4972Epoch 00094: val_loss did not improve\n",
      "5488/5488 [==============================] - 16s - loss: 1.4587 - acc: 0.4974 - val_loss: 1.4388 - val_acc: 0.4967\n",
      "Epoch 96/100\n",
      "5450/5488 [============================>.] - ETA: 0s - loss: 1.4585 - acc: 0.4982Epoch 00095: val_loss improved from 1.42335 to 1.41788, saving model to saved_models/weights.best.conv.25epochs.hdf5\n",
      "5488/5488 [==============================] - 16s - loss: 1.4572 - acc: 0.4987 - val_loss: 1.4179 - val_acc: 0.5280\n",
      "Epoch 97/100\n",
      "5450/5488 [============================>.] - ETA: 0s - loss: 1.4409 - acc: 0.5083Epoch 00096: val_loss did not improve\n",
      "5488/5488 [==============================] - 15s - loss: 1.4399 - acc: 0.5086 - val_loss: 1.5410 - val_acc: 0.4559\n",
      "Epoch 98/100\n",
      "5450/5488 [============================>.] - ETA: 0s - loss: 1.4354 - acc: 0.5037Epoch 00097: val_loss improved from 1.41788 to 1.35736, saving model to saved_models/weights.best.conv.25epochs.hdf5\n",
      "5488/5488 [==============================] - 15s - loss: 1.4336 - acc: 0.5042 - val_loss: 1.3574 - val_acc: 0.5550\n",
      "Epoch 99/100\n",
      "5450/5488 [============================>.] - ETA: 0s - loss: 1.4382 - acc: 0.5072Epoch 00098: val_loss did not improve\n",
      "5488/5488 [==============================] - 15s - loss: 1.4384 - acc: 0.5064 - val_loss: 1.3988 - val_acc: 0.5011\n",
      "Epoch 100/100\n",
      "5450/5488 [============================>.] - ETA: 0s - loss: 1.4332 - acc: 0.4982Epoch 00099: val_loss did not improve\n",
      "5488/5488 [==============================] - 15s - loss: 1.4324 - acc: 0.4993 - val_loss: 1.4125 - val_acc: 0.4938\n"
     ]
    }
   ],
   "source": [
    "# Load ModelCheckpoint function from keras to save best model\n",
    "# Save the best model as training data is fit to model\n",
    "checkpointer = ModelCheckpoint(filepath='saved_models/weights.best.conv.25epochs.hdf5', \n",
    "                               verbose=1, save_best_only=True)\n",
    "\n",
    "# Define number of epochs\n",
    "epochs = 100\n",
    "\n",
    "# Fit the model to the training data\n",
    "estimator = model.fit(X_train, y_train,\n",
    "                      validation_split=0.2,\n",
    "                      epochs=epochs, batch_size=50,\n",
    "                      callbacks=[checkpointer], verbose=1)"
   ]
  },
  {
   "cell_type": "code",
   "execution_count": 56,
   "metadata": {},
   "outputs": [
    {
     "name": "stdout",
     "output_type": "stream",
     "text": [
      "Training accuracy: 49.93% / Validation accuracy: 49.38%\n"
     ]
    }
   ],
   "source": [
    "print(\"Training accuracy: %.2f%% / Validation accuracy: %.2f%%\" % \n",
    "      (100*estimator.history['acc'][-1], 100*estimator.history['val_acc'][-1]))"
   ]
  },
  {
   "cell_type": "code",
   "execution_count": 57,
   "metadata": {},
   "outputs": [
    {
     "data": {
      "image/png": "[encoded data removed]",
      "text/plain": [
       "<matplotlib.figure.Figure at 0x181d09828>"
      ]
     },
     "metadata": {},
     "output_type": "display_data"
    },
    {
     "data": {
      "image/png": "[encoded data removed]",
      "text/plain": [
       "<matplotlib.figure.Figure at 0x1822b5e48>"
      ]
     },
     "metadata": {},
     "output_type": "display_data"
    }
   ],
   "source": [
    "# Plot model accuracy and loss over epochs\n",
    "# Summarize history for accuracy\n",
    "plt.plot(estimator.history['acc'])\n",
    "plt.plot(estimator.history['val_acc'])\n",
    "plt.title('model accuracy')\n",
    "plt.ylabel('accuracy')\n",
    "plt.xlabel('epoch')\n",
    "plt.legend(['train', 'valid'], loc='upper left')\n",
    "plt.show()\n",
    "\n",
    "# Summarize history for loss\n",
    "plt.plot(estimator.history['loss'])\n",
    "plt.plot(estimator.history['val_loss'])\n",
    "plt.title('model loss')\n",
    "plt.ylabel('loss')\n",
    "plt.xlabel('epoch')\n",
    "plt.legend(['train', 'valid'], loc='upper left')\n",
    "plt.show()"
   ]
  },
  {
   "cell_type": "code",
   "execution_count": 58,
   "metadata": {},
   "outputs": [
    {
     "name": "stdout",
     "output_type": "stream",
     "text": [
      "Variables deleted\n"
     ]
    }
   ],
   "source": [
    "# Free up some memory\n",
    "try:\n",
    "    del X_train, y_train\n",
    "    print('Variables deleted')\n",
    "except NameError:\n",
    "    print('Already deleted')"
   ]
  },
  {
   "cell_type": "code",
   "execution_count": 36,
   "metadata": {
    "collapsed": true
   },
   "outputs": [],
   "source": [
    "# Load the model with best loss\n",
    "\n",
    "# bidirectional lstm model with 200 epochs and 50 batches and validation set\n",
    "# model.load_weights('saved_models/weights.best.lstm.50epochs.hdf5')\n",
    "# 1D Convolutional model with 50 epochs and 50 batches and validation set\n",
    "model.load_weights('saved_models/weights.best.conv.100epochs.hdf5')"
   ]
  },
  {
   "cell_type": "markdown",
   "metadata": {},
   "source": [
    "## If Evaluating on Kaggle Testing Set\n",
    "---\n",
    "If not, then skip to make predictions section."
   ]
  },
  {
   "cell_type": "code",
   "execution_count": 24,
   "metadata": {},
   "outputs": [
    {
     "name": "stdout",
     "output_type": "stream",
     "text": [
      "Original testing data shape:  (5668,)\n",
      "Cleaned up testing data shape:  (986,)\n"
     ]
    }
   ],
   "source": [
    "# Transform testing data\n",
    "print('Original testing data shape: ', text_test['Text'].shape)\n",
    "text_test_cleaned = cleanup_text(text_test['Text'])\n",
    "# text_test_cleaned = cleanup_text(text_test_2['Text'])  # If using stage 2 test data\n",
    "print('Cleaned up testing data shape: ', text_test_cleaned.shape)"
   ]
  },
  {
   "cell_type": "code",
   "execution_count": 25,
   "metadata": {},
   "outputs": [
    {
     "name": "stdout",
     "output_type": "stream",
     "text": [
      "Parsing documents...\n",
      "Total time passed parsing documents: 134.10319805145264 seconds\n",
      "Total number of documents parsed: 986\n",
      "Number of words in first document:  49829\n",
      "Number of words in second document:  31326\n",
      "Size of vector embeddings:  300\n",
      "Shape of vectors embeddings matrix:  (986, 300)\n"
     ]
    }
   ],
   "source": [
    "# Transform text_test to word embeddings matrix\n",
    "# Parse documents and print some statistics\n",
    "print('Parsing documents...')\n",
    "\n",
    "start = time()\n",
    "\n",
    "vectors_test = [doc.vector for doc in nlp.pipe(text_test_cleaned, batch_size=500, n_threads=1, \n",
    "                                                parse=False, tag=False, entity=False)]\n",
    "vectors_test = np.array(vectors_test)\n",
    "\n",
    "end = time()\n",
    "print('Total time passed parsing documents: {} seconds'.format(end - start))\n",
    "print('Total number of documents parsed: {}'.format(len(vectors_test)))\n",
    "print('Number of words in first document: ', len(text_test['Text'][0]))\n",
    "print('Number of words in second document: ', len(text_test['Text'][1]))\n",
    "print('Size of vector embeddings: ', vectors_test.shape[1])\n",
    "print('Shape of vectors embeddings matrix: ', vectors_test.shape)"
   ]
  },
  {
   "cell_type": "code",
   "execution_count": 26,
   "metadata": {},
   "outputs": [
    {
     "name": "stdout",
     "output_type": "stream",
     "text": [
      "Variable deleted\n"
     ]
    }
   ],
   "source": [
    "# Free up some memory\n",
    "try:\n",
    "    del text_test_cleaned\n",
    "    print('Variable deleted')\n",
    "except NameError:\n",
    "    print('Already deleted')"
   ]
  },
  {
   "cell_type": "markdown",
   "metadata": {},
   "source": [
    "## Save and load test word embeddings\n",
    "---"
   ]
  },
  {
   "cell_type": "code",
   "execution_count": 29,
   "metadata": {
    "collapsed": true
   },
   "outputs": [],
   "source": [
    "# Save test word vectors\n",
    "np.save('word_embeddings/testing_vectors.npy', vectors_test)"
   ]
  },
  {
   "cell_type": "code",
   "execution_count": 119,
   "metadata": {},
   "outputs": [
    {
     "name": "stdout",
     "output_type": "stream",
     "text": [
      "(5668, 300)\n"
     ]
    }
   ],
   "source": [
    "# Load word vectors into numpy arrays\n",
    "vectors_test = np.load('word_embeddings/testing_vectors.npy')\n",
    "\n",
    "# Check to see if it has the correct shape\n",
    "print(vectors_test.shape)"
   ]
  },
  {
   "cell_type": "code",
   "execution_count": 28,
   "metadata": {},
   "outputs": [
    {
     "name": "stdout",
     "output_type": "stream",
     "text": [
      "(986, 300, 1)\n"
     ]
    }
   ],
   "source": [
    "# Expand dimensions (CNN or LSTM architecture) to avoid errors when predicting\n",
    "vectors_test = np.expand_dims(vectors_test, axis=2)\n",
    "print(vectors_test.shape)"
   ]
  },
  {
   "cell_type": "markdown",
   "metadata": {},
   "source": [
    "## Make predictions\n",
    "---"
   ]
  },
  {
   "cell_type": "code",
   "execution_count": 62,
   "metadata": {
    "collapsed": true
   },
   "outputs": [],
   "source": [
    "# Make predictions\n",
    "predicted_prob = model.predict(vectors_test) # If evaluating on Kaggle test set\n",
    "# predicted_prob = model.predict(X_test)       # If evaluating on homemade test set"
   ]
  },
  {
   "cell_type": "code",
   "execution_count": 63,
   "metadata": {},
   "outputs": [
    {
     "name": "stdout",
     "output_type": "stream",
     "text": [
      "(986, 9)\n"
     ]
    }
   ],
   "source": [
    "# Make sure output is shaped correctly\n",
    "print(predicted_prob.shape)"
   ]
  },
  {
   "cell_type": "code",
   "execution_count": 61,
   "metadata": {},
   "outputs": [
    {
     "name": "stdout",
     "output_type": "stream",
     "text": [
      "SpaCy and Keras Results: \n",
      "Log loss is: 1.4453229891366406\n"
     ]
    }
   ],
   "source": [
    "# Report log loss and score\n",
    "loss_sk = log_loss(y_test, predicted_prob)\n",
    "print('SpaCy and Keras Results: ')\n",
    "print('Log loss is: {}'.format(loss_sk))"
   ]
  },
  {
   "cell_type": "markdown",
   "metadata": {
    "collapsed": true
   },
   "source": [
    "# Approach 3: Doc2Vec\n",
    "---\n",
    "Train my own Doc2Vec model."
   ]
  },
  {
   "cell_type": "code",
   "execution_count": 66,
   "metadata": {},
   "outputs": [
    {
     "name": "stdout",
     "output_type": "stream",
     "text": [
      "Number of total text documents: 8989\n"
     ]
    }
   ],
   "source": [
    "# First combine train and test text into one dataframe to make parsing text easier\n",
    "all_text = np.concatenate((text_train, text_test), axis=0)\n",
    "all_text = pd.DataFrame(all_text, columns=['Text'])\n",
    "print('Number of total text documents:', len(all_text)) #8989"
   ]
  },
  {
   "cell_type": "code",
   "execution_count": 67,
   "metadata": {},
   "outputs": [
    {
     "name": "stdout",
     "output_type": "stream",
     "text": [
      "Number of total gene/variation entries: 8989\n"
     ]
    }
   ],
   "source": [
    "# Combine all gene/variation entries into one dataframe\n",
    "train_data = pd.concat([variants_train, text_train], axis=1)\n",
    "test_data = pd.concat([variants_test, text_test], axis=1)\n",
    "train_data.drop(['Class', 'Text'], axis=1, inplace=True)\n",
    "test_data.drop(['Text'], axis=1, inplace=True)\n",
    "\n",
    "all_gene_var = np.concatenate((train_data, test_data), axis=0)\n",
    "all_gene_var = pd.DataFrame(all_gene_var, columns=['Gene', 'Variation'])\n",
    "print('Number of total gene/variation entries:', len(all_gene_var))"
   ]
  },
  {
   "cell_type": "code",
   "execution_count": 8,
   "metadata": {
    "collapsed": true
   },
   "outputs": [],
   "source": [
    "punctuations = string.punctuation\n",
    "\n",
    "# Custom tokenizer\n",
    "# Tokenizer parses through each document and removes stopwords, punctuation and personal pronouns\n",
    "def spacy_tokenizer(sentence):\n",
    "    tokens = nlp(sentence, parse=False, entity=False)\n",
    "    tokens = [tok.lemma_.strip().lower() if tok.lemma_ != '-PRON-' else tok.lower_ for tok in tokens]\n",
    "    tokens = [tok for tok in tokens if (tok not in stopwords and tok not in punctuations)]\n",
    "    return tokens\n",
    "\n",
    "vectorizer = CountVectorizer(analyzer='word', tokenizer=spacy_tokenizer)"
   ]
  },
  {
   "cell_type": "code",
   "execution_count": null,
   "metadata": {
    "collapsed": true
   },
   "outputs": [],
   "source": [
    "# Build tokenizer and tokenize all text using spacy tokenizer\n",
    "print('Tokenizing all text documents...')\n",
    "start = time()\n",
    "tokenizer_spacy = vectorizer.build_tokenizer()\n",
    "X_tok = [tokenizer_spacy(doc) for doc in all_text['Text']]\n",
    "end = time()\n",
    "\n",
    "print('Time elapsed: ', end-start)\n",
    "print('Type of X_tok: ', type(X_tok))\n",
    "print('Length of X_tok: ', len(X_tok))\n",
    "print('Length of first doc in X_tok: ', len(X_tok[0]))"
   ]
  },
  {
   "cell_type": "code",
   "execution_count": 9,
   "metadata": {},
   "outputs": [
    {
     "name": "stdout",
     "output_type": "stream",
     "text": [
      "X_tok_proc type:  <class 'list'>\n",
      "Length of X_tok_proc:  8989\n",
      "Length of first document in X_tok_proc:  28621\n",
      "Length of second document in X_tok_proc:  25391\n"
     ]
    }
   ],
   "source": [
    "X_tok_proc = [' '.join(doc) for doc in X_tok]\n",
    "print('X_tok_proc type: ', type(X_tok_proc))\n",
    "print('Length of X_tok_proc: ', len(X_tok_proc))\n",
    "print('Length of first document in X_tok_proc: ', len(X_tok_proc[0]))\n",
    "print('Length of second document in X_tok_proc: ', len(X_tok_proc[1]))\n",
    "# Free up memory\n",
    "try:\n",
    "    del X_tok\n",
    "except NameError:\n",
    "    print('X_tok already deleted')"
   ]
  },
  {
   "cell_type": "code",
   "execution_count": 12,
   "metadata": {
    "collapsed": true
   },
   "outputs": [],
   "source": [
    "# Save array\n",
    "with open(\"tokens/text_tokenized.txt\", \"wb\") as fp:\n",
    "    pickle.dump(X_tok_proc, fp)"
   ]
  },
  {
   "cell_type": "code",
   "execution_count": 10,
   "metadata": {
    "collapsed": true
   },
   "outputs": [],
   "source": [
    "# Load array\n",
    "with open(\"/tokens/text_tokenized.txt\", \"rb\") as fp:\n",
    "    X_tok_proc = pickle.load(fp)"
   ]
  },
  {
   "cell_type": "code",
   "execution_count": 11,
   "metadata": {},
   "outputs": [
    {
     "name": "stdout",
     "output_type": "stream",
     "text": [
      "Spacy tokenizer text data shape:  8989\n",
      "Spacy tokenizer text data type <class 'list'>\n"
     ]
    }
   ],
   "source": [
    "print('Spacy tokenizer text data shape: ', len(X_tok_proc))\n",
    "print('Spacy tokenizer text data type', type(X_tok_proc))"
   ]
  },
  {
   "cell_type": "code",
   "execution_count": 30,
   "metadata": {
    "scrolled": true
   },
   "outputs": [
    {
     "name": "stdout",
     "output_type": "stream",
     "text": [
      "Data Type for X_tok_labeled: <class 'list'>\n",
      "Length of X_tok_labeled: 8989\n",
      "First 10 words of first labeled sentence: ['cyclin', 'dependent', 'kinase', 'cdk', 'regulate', 'variety', 'fundamental', 'cellular', 'process', 'cdk10']\n",
      "Tag for first labeled sentence ['Text_0']\n"
     ]
    }
   ],
   "source": [
    "from gensim.models.doc2vec import Doc2Vec, LabeledSentence\n",
    "from gensim.utils import simple_preprocess, to_unicode\n",
    "\n",
    "X_tok_labeled = []\n",
    "for index, row in enumerate(X_tok_proc):\n",
    "    X_tok_labeled.append(LabeledSentence(to_unicode(row).split(), ['Text' + '_%s' % str(index)]))\n",
    "\n",
    "print('Data Type for X_tok_labeled:', type(X_tok_labeled))\n",
    "print('Length of X_tok_labeled:', len(X_tok_labeled))\n",
    "print('First 10 words of first labeled sentence:', X_tok_labeled[0].words[:10])\n",
    "print('Tag for first labeled sentence', X_tok_labeled[0].tags)"
   ]
  },
  {
   "cell_type": "code",
   "execution_count": 65,
   "metadata": {
    "collapsed": true
   },
   "outputs": [],
   "source": [
    "from gensim.models.doc2vec import Doc2Vec\n",
    "import os\n",
    "\n",
    "text_dim = 300\n",
    "filename = 'saved_models/train_vec.doc2vec'\n",
    "docvec_model = None\n",
    "if os.path.isfile(filename):\n",
    "    # Load the model if it already exists\n",
    "    docvec_model = Doc2Vec.load(filename)\n",
    "else:\n",
    "    # Instantiate the model\n",
    "    docvec_model = Doc2Vec(size=text_dim, min_count=1, window=5, sample=1e-3, negative=5, iter=5, seed=21, workers=1)\n",
    "    docvec_model.build_vocab(X_tok_labeled)\n",
    "    docvec_model.train(X_tok_labeled, total_examples=docvec_model.corpus_count, epochs=docvec_model.iter)\n",
    "    docvec_model.save(filename)"
   ]
  },
  {
   "cell_type": "code",
   "execution_count": 68,
   "metadata": {},
   "outputs": [
    {
     "name": "stdout",
     "output_type": "stream",
     "text": [
      "[ 0.41375545 -0.71360081 -0.1231009  -0.16824475 -0.20684995 -0.50800437\n",
      "  0.06112945 -0.26774201 -0.34364623  0.235286    0.09140928 -0.6722371\n",
      " -0.22423153 -0.77056545  0.0745403  -0.04036849  1.05884862 -0.98209226\n",
      " -0.90436548 -0.46791151 -0.41667029  0.75563878 -0.40877584  0.12701663\n",
      "  0.66679621 -0.10872383  0.68086714 -0.29134139 -0.08604976  0.66326547\n",
      " -0.13777106  0.19371484  0.28705668  0.53506428  0.58203298  0.02151972\n",
      " -1.28696048 -0.19745786  0.2833249  -0.29673967 -0.52164167  0.5949288\n",
      " -0.90866572 -0.45721197 -0.47721899 -0.44971585 -0.13488626  0.08794958\n",
      "  0.21903233 -0.91801637]\n"
     ]
    }
   ],
   "source": [
    "text_train_arrays = np.zeros((len(text_train), text_dim))\n",
    "text_test_arrays = np.zeros((len(text_test), text_dim))\n",
    "\n",
    "for i in range(len(text_train)):\n",
    "    text_train_arrays[i] = docvec_model.docvecs['Text_'+ str(i)]\n",
    "\n",
    "j = 0\n",
    "for i in range(len(text_train),len(text_train)+len(text_test)):\n",
    "    text_test_arrays[j] = docvec_model.docvecs['Text_'+ str(i)]\n",
    "    j=j+1\n",
    "    \n",
    "print(text_train_arrays[0][:50])"
   ]
  },
  {
   "cell_type": "code",
   "execution_count": 69,
   "metadata": {},
   "outputs": [
    {
     "name": "stdout",
     "output_type": "stream",
     "text": [
      "Shape of one-hot encoded gene: (8989, 1507)\n",
      "Shape of one-hot encoded variation: (8989, 8609)\n",
      "Shape of truncated one-hot encoded gene: (8989, 25)\n",
      "Shape of truncated one-hot encoded variation: (8989, 25)\n"
     ]
    }
   ],
   "source": [
    "from sklearn.decomposition import TruncatedSVD\n",
    "gene_dim = 25\n",
    "\n",
    "svd = TruncatedSVD(n_components=25, n_iter=gene_dim, random_state=21)\n",
    "\n",
    "one_hot_gene = pd.get_dummies(all_gene_var['Gene'])\n",
    "truncated_one_hot_gene = svd.fit_transform(one_hot_gene.values)\n",
    "\n",
    "one_hot_variation = pd.get_dummies(all_gene_var['Variation'])\n",
    "truncated_one_hot_variation = svd.fit_transform(one_hot_variation.values)\n",
    "\n",
    "print('Shape of one-hot encoded gene:', one_hot_gene.shape)\n",
    "print('Shape of one-hot encoded variation:', one_hot_variation.shape)\n",
    "print('Shape of truncated one-hot encoded gene: ({}, {})'.format(len(truncated_one_hot_gene), len(truncated_one_hot_gene[0])))\n",
    "print('Shape of truncated one-hot encoded variation: ({}, {})'.format(len(truncated_one_hot_variation), len(truncated_one_hot_variation[0])))"
   ]
  },
  {
   "cell_type": "code",
   "execution_count": 70,
   "metadata": {},
   "outputs": [
    {
     "name": "stdout",
     "output_type": "stream",
     "text": [
      "(3321, 350)\n",
      "(5668, 350)\n"
     ]
    }
   ],
   "source": [
    "# Merge train and test set together.\n",
    "X_train = np.hstack((truncated_one_hot_gene[:len(text_train)],\n",
    "                     truncated_one_hot_variation[:len(text_train)],\n",
    "                     text_train_arrays))\n",
    "\n",
    "X_test_1 = np.hstack((truncated_one_hot_gene[len(text_train):],\n",
    "                    truncated_one_hot_variation[len(text_train):],\n",
    "                    text_test_arrays))\n",
    "\n",
    "print(X_train.shape)\n",
    "print(X_test_1.shape)"
   ]
  },
  {
   "cell_type": "code",
   "execution_count": 71,
   "metadata": {},
   "outputs": [
    {
     "name": "stdout",
     "output_type": "stream",
     "text": [
      "(8577, 350)\n",
      "(8577,)\n"
     ]
    }
   ],
   "source": [
    "# Use imbalanced-learn\n",
    "X_resampled, y_resampled = resample_data(X_train, variants_train['Class'])\n",
    "print(X_resampled.shape)\n",
    "print(y_resampled.shape)"
   ]
  },
  {
   "cell_type": "code",
   "execution_count": 72,
   "metadata": {},
   "outputs": [
    {
     "name": "stdout",
     "output_type": "stream",
     "text": [
      "y_train_encoded samples:\n",
      "[[1 0 0 0 0 0 0 0 0]\n",
      " [0 1 0 0 0 0 0 0 0]\n",
      " [0 1 0 0 0 0 0 0 0]\n",
      " [0 0 1 0 0 0 0 0 0]\n",
      " [0 0 0 1 0 0 0 0 0]]\n",
      "y_train_encoded shape: (8577, 9)\n"
     ]
    }
   ],
   "source": [
    "# Transform labels into one hot encoded format.\n",
    "y_train_encoded = label_binarize(y_resampled, classes=[1, 2, 3, 4, 5, 6, 7, 8, 9])\n",
    "print('y_train_encoded samples:')\n",
    "print(y_train_encoded[:5])\n",
    "print('y_train_encoded shape: {}'.format(y_train_encoded.shape))"
   ]
  },
  {
   "cell_type": "markdown",
   "metadata": {},
   "source": [
    "## Split Word Embeddings Into Train/Test Sets\n",
    "---"
   ]
  },
  {
   "cell_type": "code",
   "execution_count": 73,
   "metadata": {},
   "outputs": [
    {
     "name": "stdout",
     "output_type": "stream",
     "text": [
      "X_train size: (6861, 350)\n",
      "X_test size: (1716, 350)\n",
      "y_train size: (6861, 9)\n",
      "y_test size: (1716, 9)\n"
     ]
    }
   ],
   "source": [
    "# Split into training and testing sets\n",
    "\n",
    "X_train, X_test, y_train, y_test = split_data(X_resampled, y_train_encoded)\n",
    "\n",
    "print('X_train size: {}'.format(X_train.shape))\n",
    "print('X_test size: {}'.format(X_test.shape))\n",
    "print('y_train size: {}'.format(y_train.shape))\n",
    "print('y_test size: {}'.format(y_test.shape))"
   ]
  },
  {
   "cell_type": "code",
   "execution_count": 31,
   "metadata": {},
   "outputs": [
    {
     "name": "stdout",
     "output_type": "stream",
     "text": [
      "Text train shape:  (6861, 350, 1)\n",
      "Text test shape:  (1716, 350, 1)\n"
     ]
    }
   ],
   "source": [
    "# Expand dimensions so it works for CNN\n",
    "X_train = np.expand_dims(X_train, axis=2)\n",
    "X_test = np.expand_dims(X_test, axis=2)\n",
    "print('Text train shape: ', X_train.shape)\n",
    "print('Text test shape: ', X_test.shape)"
   ]
  },
  {
   "cell_type": "markdown",
   "metadata": {},
   "source": [
    "## Define Keras Neural Network Model\n",
    "---"
   ]
  },
  {
   "cell_type": "code",
   "execution_count": 79,
   "metadata": {},
   "outputs": [
    {
     "name": "stdout",
     "output_type": "stream",
     "text": [
      "_________________________________________________________________\n",
      "Layer (type)                 Output Shape              Param #   \n",
      "=================================================================\n",
      "dense_16 (Dense)             (None, 2048)              718848    \n",
      "_________________________________________________________________\n",
      "dropout_10 (Dropout)         (None, 2048)              0         \n",
      "_________________________________________________________________\n",
      "dense_17 (Dense)             (None, 1024)              2098176   \n",
      "_________________________________________________________________\n",
      "dropout_11 (Dropout)         (None, 1024)              0         \n",
      "_________________________________________________________________\n",
      "dense_18 (Dense)             (None, 512)               524800    \n",
      "_________________________________________________________________\n",
      "dropout_12 (Dropout)         (None, 512)               0         \n",
      "_________________________________________________________________\n",
      "dense_19 (Dense)             (None, 256)               131328    \n",
      "_________________________________________________________________\n",
      "dense_20 (Dense)             (None, 9)                 2313      \n",
      "=================================================================\n",
      "Total params: 3,475,465\n",
      "Trainable params: 3,475,465\n",
      "Non-trainable params: 0\n",
      "_________________________________________________________________\n"
     ]
    }
   ],
   "source": [
    "'''# Log loss w/ normal init: 0.65002. LL w/ he_normal:  0.682482. LL w/ double neurons: 0.658041\n",
    "# Kaggle Log loss w/ normal init: 19.45819\n",
    "model = Sequential()\n",
    "model.add(Dense(1024, input_dim=text_dim + gene_dim*2, kernel_initializer='normal', activation='relu'))\n",
    "model.add(Dropout(0.3))\n",
    "model.add(Dense(512, kernel_initializer='normal', activation='relu'))\n",
    "model.add(Dropout(0.5))\n",
    "model.add(Dense(256, kernel_initializer='normal', activation='relu'))\n",
    "model.add(Dropout(0.5))\n",
    "model.add(Dense(128, kernel_initializer='normal', activation='relu'))\n",
    "model.add(Dense(9, kernel_initializer='normal', activation=\"softmax\"))\n",
    "'''\n",
    "\n",
    "'''# Log loss: 1.82853. LL w/ Bidirectional: 1.8237032. LL w/ kernel_init: 1.8244. \n",
    "# Log loss w/ 2 layer LSTM (256 & 128 cells) return_seq=True & go_backwards=True: 1.83524\n",
    "# Log loss w/ stacked Bidirectional LSTM layers (128 & 64 cells) return_seq=True & go_backwards=True: 1.8187873\n",
    "# Kaggle LL: 1.92953. LL w/ return=sequences=True: 3.96760. LL w/ stacked Bidirectional LSTM: 1.93370\n",
    "model = Sequential()\n",
    "model.add(Bidirectional(LSTM(128, kernel_initializer='normal', return_sequences=True,\n",
    "                             recurrent_dropout=0.2, dropout=0.2), input_shape=(text_dim + gene_dim*2, 1)))\n",
    "# Uncomment next model.add line for 2 layer bidirectional LSTM model\n",
    "# model.add(Bidirectional(LSTM(64, kernel_initializer='normal',\n",
    "#                              recurrent_dropout=0.2, dropout=0.2, go_backwards=True)))\n",
    "# Alternative LSTM model: 2-layer LSTM.\n",
    "# model.add(LSTM(256, kernel_initializer='normal', return_sequences=True,\n",
    "#                recurrent_dropout=0.2, dropout=0.2, input_shape=(text_dim + gene_dim*2, 1)))\n",
    "# model.add(LSTM(128, kernel_initializer='normal', go_backwards=True))\n",
    "# model.add(Flatten())\n",
    "model.add(Dense(9, activation='softmax'))\n",
    "'''\n",
    "\n",
    "# Keras model. LL: ~1.9648. LL w/ dropout: ~1.913. LL w/ modifications: ~1.86835\n",
    "# Log Loss: 1.407933\n",
    "# Kaggle LL: 1.95406\n",
    "model = Sequential()\n",
    "# 128, 5, No stride or padding\n",
    "model.add(Conv1D(64, 3, strides=1, padding='valid', activation='relu', input_shape=(text_dim + gene_dim*2, 1)))\n",
    "model.add(Dropout(0.3))\n",
    "model.add(MaxPooling1D(2))   # 5\n",
    "# 128, 5, No stride or padding\n",
    "model.add(Conv1D(64, 3, padding='valid', activation='relu'))  \n",
    "model.add(Dropout(0.3))\n",
    "# model.add(MaxPooling1D(5))\n",
    "# model.add(Conv1D(128, 5, activation='relu'))\n",
    "# model.add(Dropout(0.3))\n",
    "model.add(GlobalMaxPooling1D())  # global max pooling\n",
    "model.add(Dense(500, activation='relu'))      # OG: 128\n",
    "model.add(Dense(9, activation='softmax'))\n",
    "\n",
    "\n",
    "model.summary()"
   ]
  },
  {
   "cell_type": "code",
   "execution_count": 80,
   "metadata": {
    "collapsed": true
   },
   "outputs": [],
   "source": [
    "# Define optimizer and compile model\n",
    "sgd = SGD(lr=0.01, decay=1e-6, momentum=0.9, nesterov=True)  \n",
    "model.compile(loss='categorical_crossentropy', optimizer=sgd, metrics=['accuracy'])"
   ]
  },
  {
   "cell_type": "code",
   "execution_count": 81,
   "metadata": {},
   "outputs": [
    {
     "name": "stdout",
     "output_type": "stream",
     "text": [
      "Train on 5488 samples, validate on 1373 samples\n",
      "Epoch 1/40\n",
      "5488/5488 [==============================] - 9s - loss: 1.8929 - acc: 0.2892 - val_loss: 1.3459 - val_acc: 0.4945\n",
      "Epoch 2/40\n",
      "5488/5488 [==============================] - 9s - loss: 1.3808 - acc: 0.4856 - val_loss: 1.0447 - val_acc: 0.6242\n",
      "Epoch 3/40\n",
      "5488/5488 [==============================] - 9s - loss: 1.1624 - acc: 0.5685 - val_loss: 0.9333 - val_acc: 0.6635\n",
      "Epoch 4/40\n",
      "5488/5488 [==============================] - 9s - loss: 1.0271 - acc: 0.6272 - val_loss: 0.8426 - val_acc: 0.6897\n",
      "Epoch 5/40\n",
      "5488/5488 [==============================] - 9s - loss: 0.9394 - acc: 0.6589 - val_loss: 0.8137 - val_acc: 0.7028\n",
      "Epoch 6/40\n",
      "5488/5488 [==============================] - 9s - loss: 0.8397 - acc: 0.6926 - val_loss: 0.7695 - val_acc: 0.7101\n",
      "Epoch 7/40\n",
      "5488/5488 [==============================] - 9s - loss: 0.7654 - acc: 0.7165 - val_loss: 0.7613 - val_acc: 0.7218\n",
      "Epoch 8/40\n",
      "5488/5488 [==============================] - 9s - loss: 0.6963 - acc: 0.7529 - val_loss: 0.7312 - val_acc: 0.7444\n",
      "Epoch 9/40\n",
      "5488/5488 [==============================] - 9s - loss: 0.6472 - acc: 0.7657 - val_loss: 0.6908 - val_acc: 0.7487\n",
      "Epoch 10/40\n",
      "5488/5488 [==============================] - 9s - loss: 0.6073 - acc: 0.7866 - val_loss: 0.6560 - val_acc: 0.7800\n",
      "Epoch 11/40\n",
      "5488/5488 [==============================] - 9s - loss: 0.5455 - acc: 0.8030 - val_loss: 0.6416 - val_acc: 0.7735\n",
      "Epoch 12/40\n",
      "5488/5488 [==============================] - 9s - loss: 0.5119 - acc: 0.8147 - val_loss: 0.6324 - val_acc: 0.7749\n",
      "Epoch 13/40\n",
      "5488/5488 [==============================] - 9s - loss: 0.4739 - acc: 0.8353 - val_loss: 0.6375 - val_acc: 0.7859\n",
      "Epoch 14/40\n",
      "5488/5488 [==============================] - 9s - loss: 0.4503 - acc: 0.8466 - val_loss: 0.5998 - val_acc: 0.8048\n",
      "Epoch 15/40\n",
      "5488/5488 [==============================] - 9s - loss: 0.4195 - acc: 0.8489 - val_loss: 0.5969 - val_acc: 0.8077oss: 0\n",
      "Epoch 16/40\n",
      "5488/5488 [==============================] - 9s - loss: 0.3962 - acc: 0.8637 - val_loss: 0.5977 - val_acc: 0.8092\n",
      "Epoch 17/40\n",
      "5488/5488 [==============================] - 9s - loss: 0.3719 - acc: 0.8726 - val_loss: 0.5884 - val_acc: 0.8186\n",
      "Epoch 18/40\n",
      "5488/5488 [==============================] - 9s - loss: 0.3372 - acc: 0.8796 - val_loss: 0.6397 - val_acc: 0.8106\n",
      "Epoch 19/40\n",
      "5488/5488 [==============================] - 9s - loss: 0.3268 - acc: 0.8794 - val_loss: 0.6196 - val_acc: 0.8223\n",
      "Epoch 20/40\n",
      "5488/5488 [==============================] - 9s - loss: 0.3200 - acc: 0.8916 - val_loss: 0.6240 - val_acc: 0.8288\n",
      "Epoch 21/40\n",
      "5488/5488 [==============================] - 9s - loss: 0.2868 - acc: 0.8963 - val_loss: 0.6224 - val_acc: 0.8318ETA: 0s - loss: 0.2877 - acc\n",
      "Epoch 22/40\n",
      "5488/5488 [==============================] - 9s - loss: 0.2957 - acc: 0.8978 - val_loss: 0.6082 - val_acc: 0.8347\n",
      "Epoch 23/40\n",
      "5488/5488 [==============================] - 9s - loss: 0.2746 - acc: 0.9014 - val_loss: 0.6228 - val_acc: 0.8339\n",
      "Epoch 24/40\n",
      "5488/5488 [==============================] - 9s - loss: 0.2563 - acc: 0.9118 - val_loss: 0.6618 - val_acc: 0.83390.911\n",
      "Epoch 25/40\n",
      "5488/5488 [==============================] - 9s - loss: 0.2406 - acc: 0.9169 - val_loss: 0.6651 - val_acc: 0.8412 ETA: 2s \n",
      "Epoch 26/40\n",
      "5488/5488 [==============================] - 9s - loss: 0.2264 - acc: 0.9209 - val_loss: 0.6866 - val_acc: 0.8347\n",
      "Epoch 27/40\n",
      "5488/5488 [==============================] - 9s - loss: 0.2175 - acc: 0.9258 - val_loss: 0.6548 - val_acc: 0.8478\n",
      "Epoch 28/40\n",
      "5488/5488 [==============================] - 9s - loss: 0.2146 - acc: 0.9286 - val_loss: 0.6820 - val_acc: 0.8369\n",
      "Epoch 29/40\n",
      "5488/5488 [==============================] - 9s - loss: 0.2167 - acc: 0.9226 - val_loss: 0.6891 - val_acc: 0.8427\n",
      "Epoch 30/40\n",
      "5488/5488 [==============================] - 9s - loss: 0.2126 - acc: 0.9260 - val_loss: 0.6836 - val_acc: 0.83610.9\n",
      "Epoch 31/40\n",
      "5488/5488 [==============================] - 9s - loss: 0.1997 - acc: 0.9306 - val_loss: 0.7301 - val_acc: 0.8361loss: 0\n",
      "Epoch 32/40\n",
      "5488/5488 [==============================] - 9s - loss: 0.1774 - acc: 0.9371 - val_loss: 0.7568 - val_acc: 0.8274\n",
      "Epoch 33/40\n",
      "5488/5488 [==============================] - 9s - loss: 0.1863 - acc: 0.9380 - val_loss: 0.7594 - val_acc: 0.8325\n",
      "Epoch 34/40\n",
      "5488/5488 [==============================] - 9s - loss: 0.1608 - acc: 0.9446 - val_loss: 0.7363 - val_acc: 0.8456\n",
      "Epoch 35/40\n",
      "5488/5488 [==============================] - 9s - loss: 0.1674 - acc: 0.9430 - val_loss: 0.7310 - val_acc: 0.8485\n",
      "Epoch 36/40\n",
      "5488/5488 [==============================] - 9s - loss: 0.1644 - acc: 0.9422 - val_loss: 0.7313 - val_acc: 0.8383\n",
      "Epoch 37/40\n",
      "5488/5488 [==============================] - 9s - loss: 0.1566 - acc: 0.9441 - val_loss: 0.7347 - val_acc: 0.8463\n",
      "Epoch 38/40\n",
      "5488/5488 [==============================] - 9s - loss: 0.1570 - acc: 0.9439 - val_loss: 0.7660 - val_acc: 0.8492\n",
      "Epoch 39/40\n",
      "5488/5488 [==============================] - 9s - loss: 0.1596 - acc: 0.9461 - val_loss: 0.7377 - val_acc: 0.8485\n",
      "Epoch 40/40\n",
      "5488/5488 [==============================] - 9s - loss: 0.1584 - acc: 0.9472 - val_loss: 0.7414 - val_acc: 0.8536\n"
     ]
    }
   ],
   "source": [
    "# Fit the model\n",
    "\n",
    "epochs = 40\n",
    "\n",
    "estimator = model.fit(X_train, y_train,\n",
    "                      validation_split=0.2,\n",
    "                      epochs=epochs, batch_size=64,\n",
    "                      verbose=1)"
   ]
  },
  {
   "cell_type": "code",
   "execution_count": 82,
   "metadata": {},
   "outputs": [
    {
     "name": "stdout",
     "output_type": "stream",
     "text": [
      "Training accuracy: 94.72% / Validation accuracy: 85.36%\n"
     ]
    }
   ],
   "source": [
    "print(\"Training accuracy: %.2f%% / Validation accuracy: %.2f%%\" %\n",
    "      (100*estimator.history['acc'][-1], 100*estimator.history['val_acc'][-1]))"
   ]
  },
  {
   "cell_type": "code",
   "execution_count": 83,
   "metadata": {},
   "outputs": [
    {
     "data": {
      "image/png": "[encoded data removed]",
      "text/plain": [
       "<matplotlib.figure.Figure at 0x153ce9588>"
      ]
     },
     "metadata": {},
     "output_type": "display_data"
    },
    {
     "data": {
      "image/png": "[encoded data removed]",
      "text/plain": [
       "<matplotlib.figure.Figure at 0x153d2b0b8>"
      ]
     },
     "metadata": {},
     "output_type": "display_data"
    }
   ],
   "source": [
    "# summarize history for accuracy\n",
    "plt.plot(estimator.history['acc'])\n",
    "plt.plot(estimator.history['val_acc'])\n",
    "plt.title('model accuracy')\n",
    "plt.ylabel('accuracy')\n",
    "plt.xlabel('epoch')\n",
    "plt.legend(['train', 'valid'], loc='upper left')\n",
    "plt.show()\n",
    "\n",
    "# summarize history for loss\n",
    "plt.plot(estimator.history['loss'])\n",
    "plt.plot(estimator.history['val_loss'])\n",
    "plt.title('model loss')\n",
    "plt.ylabel('loss')\n",
    "plt.xlabel('epoch')\n",
    "plt.legend(['train', 'valid'], loc='upper left')\n",
    "plt.show()"
   ]
  },
  {
   "cell_type": "code",
   "execution_count": 84,
   "metadata": {
    "scrolled": true
   },
   "outputs": [
    {
     "name": "stdout",
     "output_type": "stream",
     "text": [
      "1664/1716 [============================>.] - ETA: 0s"
     ]
    }
   ],
   "source": [
    "# Make predictions\n",
    "predicted_prob = model.predict_proba(X_test)"
   ]
  },
  {
   "cell_type": "code",
   "execution_count": 85,
   "metadata": {},
   "outputs": [
    {
     "name": "stdout",
     "output_type": "stream",
     "text": [
      "SpaCy and Keras Results: \n",
      "Log loss is: 0.6580418596415951\n"
     ]
    }
   ],
   "source": [
    "# Report log loss and score\n",
    "loss_sk = log_loss(y_test, predicted_prob)\n",
    "print('SpaCy and Keras Results: ')\n",
    "print('Log loss is: {}'.format(loss_sk))"
   ]
  },
  {
   "cell_type": "markdown",
   "metadata": {},
   "source": [
    "## Evaluate Predictions on Stage 1 Filtered Solutions\n",
    "---\n",
    "Load the labels for testing set"
   ]
  },
  {
   "cell_type": "code",
   "execution_count": 42,
   "metadata": {
    "collapsed": true
   },
   "outputs": [],
   "source": [
    "y_test = pd.read_csv('stage1_solution_filtered.csv', skiprows=1,\n",
    "                          names=['ID', 'class1', 'class2', 'class3', 'class4', 'class5',\n",
    "                                 'class6', 'class7', 'class8', 'class9'], engine='python').set_index('ID')\n",
    "\n",
    "y_pred = pd.read_csv('submission14.txt', skiprows=1,\n",
    "                          names=['ID', 'class1', 'class2', 'class3', 'class4', 'class5',\n",
    "                                 'class6', 'class7', 'class8', 'class9'], engine='python').set_index('ID')"
   ]
  },
  {
   "cell_type": "code",
   "execution_count": 43,
   "metadata": {},
   "outputs": [
    {
     "name": "stdout",
     "output_type": "stream",
     "text": [
      "Shape of filtered predictions: (368, 9)\n",
      "Shape of filtered labels: (368, 9)\n"
     ]
    },
    {
     "data": {
      "text/html": [
       "<div>\n",
       "<style>\n",
       "    .dataframe thead tr:only-child th {\n",
       "        text-align: right;\n",
       "    }\n",
       "\n",
       "    .dataframe thead th {\n",
       "        text-align: left;\n",
       "    }\n",
       "\n",
       "    .dataframe tbody tr th {\n",
       "        vertical-align: top;\n",
       "    }\n",
       "</style>\n",
       "<table border=\"1\" class=\"dataframe\">\n",
       "  <thead>\n",
       "    <tr style=\"text-align: right;\">\n",
       "      <th></th>\n",
       "      <th>class1</th>\n",
       "      <th>class2</th>\n",
       "      <th>class3</th>\n",
       "      <th>class4</th>\n",
       "      <th>class5</th>\n",
       "      <th>class6</th>\n",
       "      <th>class7</th>\n",
       "      <th>class8</th>\n",
       "      <th>class9</th>\n",
       "    </tr>\n",
       "    <tr>\n",
       "      <th>ID</th>\n",
       "      <th></th>\n",
       "      <th></th>\n",
       "      <th></th>\n",
       "      <th></th>\n",
       "      <th></th>\n",
       "      <th></th>\n",
       "      <th></th>\n",
       "      <th></th>\n",
       "      <th></th>\n",
       "    </tr>\n",
       "  </thead>\n",
       "  <tbody>\n",
       "    <tr>\n",
       "      <th>12</th>\n",
       "      <td>0.00</td>\n",
       "      <td>0.00</td>\n",
       "      <td>0.0</td>\n",
       "      <td>0.02</td>\n",
       "      <td>0.00</td>\n",
       "      <td>0.00</td>\n",
       "      <td>0.98</td>\n",
       "      <td>0.0</td>\n",
       "      <td>0.0</td>\n",
       "    </tr>\n",
       "    <tr>\n",
       "      <th>19</th>\n",
       "      <td>0.00</td>\n",
       "      <td>0.25</td>\n",
       "      <td>0.0</td>\n",
       "      <td>0.00</td>\n",
       "      <td>0.01</td>\n",
       "      <td>0.61</td>\n",
       "      <td>0.12</td>\n",
       "      <td>0.0</td>\n",
       "      <td>0.0</td>\n",
       "    </tr>\n",
       "    <tr>\n",
       "      <th>21</th>\n",
       "      <td>1.00</td>\n",
       "      <td>0.00</td>\n",
       "      <td>0.0</td>\n",
       "      <td>0.00</td>\n",
       "      <td>0.00</td>\n",
       "      <td>0.00</td>\n",
       "      <td>0.00</td>\n",
       "      <td>0.0</td>\n",
       "      <td>0.0</td>\n",
       "    </tr>\n",
       "    <tr>\n",
       "      <th>55</th>\n",
       "      <td>0.99</td>\n",
       "      <td>0.00</td>\n",
       "      <td>0.0</td>\n",
       "      <td>0.01</td>\n",
       "      <td>0.00</td>\n",
       "      <td>0.00</td>\n",
       "      <td>0.00</td>\n",
       "      <td>0.0</td>\n",
       "      <td>0.0</td>\n",
       "    </tr>\n",
       "    <tr>\n",
       "      <th>64</th>\n",
       "      <td>0.00</td>\n",
       "      <td>0.00</td>\n",
       "      <td>0.0</td>\n",
       "      <td>0.00</td>\n",
       "      <td>0.00</td>\n",
       "      <td>0.00</td>\n",
       "      <td>1.00</td>\n",
       "      <td>0.0</td>\n",
       "      <td>0.0</td>\n",
       "    </tr>\n",
       "  </tbody>\n",
       "</table>\n",
       "</div>"
      ],
      "text/plain": [
       "    class1  class2  class3  class4  class5  class6  class7  class8  class9\n",
       "ID                                                                        \n",
       "12    0.00    0.00     0.0    0.02    0.00    0.00    0.98     0.0     0.0\n",
       "19    0.00    0.25     0.0    0.00    0.01    0.61    0.12     0.0     0.0\n",
       "21    1.00    0.00     0.0    0.00    0.00    0.00    0.00     0.0     0.0\n",
       "55    0.99    0.00     0.0    0.01    0.00    0.00    0.00     0.0     0.0\n",
       "64    0.00    0.00     0.0    0.00    0.00    0.00    1.00     0.0     0.0"
      ]
     },
     "metadata": {},
     "output_type": "display_data"
    }
   ],
   "source": [
    "# Filter the predictions\n",
    "ids = np.array(y_test.index)\n",
    "y_pred_filt = y_pred.filter(ids, axis='index')\n",
    "print('Shape of filtered predictions:', y_pred_filt.shape)\n",
    "print('Shape of filtered labels:', y_test.shape)\n",
    "display(y_pred_filt.head())"
   ]
  },
  {
   "cell_type": "code",
   "execution_count": 44,
   "metadata": {},
   "outputs": [
    {
     "name": "stdout",
     "output_type": "stream",
     "text": [
      "SpaCy, Doc2Vec and Keras Results: \n",
      "Log loss is: 19.141371765656235\n"
     ]
    }
   ],
   "source": [
    "# Evaluate predictions\n",
    "# Report log loss and score\n",
    "loss_sk = log_loss(y_test, y_pred_filt)\n",
    "# score_sk = model.evaluate(X_test, y_test)\n",
    "print('SpaCy, Doc2Vec and Keras Results: ')\n",
    "print('Log loss is: {}'.format(loss_sk))\n",
    "# print('Score (Log loss) is: {}'.format(score_sk))"
   ]
  },
  {
   "cell_type": "markdown",
   "metadata": {},
   "source": [
    "# Approach 4: GloVe Word Embeddings\n",
    "---\n",
    "From keras blog post: https://blog.keras.io/using-pre-trained-word-embeddings-in-a-keras-model.html\n",
    "### Text Preprocessing\n",
    "Still using spaCy for text cleaning, in similar manner to approach 2."
   ]
  },
  {
   "cell_type": "code",
   "execution_count": 7,
   "metadata": {
    "collapsed": true
   },
   "outputs": [],
   "source": [
    "# Create English spaCy model\n",
    "nlp = spacy.load('en')"
   ]
  },
  {
   "cell_type": "code",
   "execution_count": 8,
   "metadata": {
    "collapsed": true
   },
   "outputs": [],
   "source": [
    "punctuations = string.punctuation\n",
    "\n",
    "# Custom tokenizer\n",
    "# Tokenizer parses through each document and removes stopwords, punctuation and personal pronouns\n",
    "def spacy_tokenizer(sentence):\n",
    "    tokens = nlp(sentence, parse=False, entity=False)\n",
    "    tokens = [tok.lemma_.strip().lower() if tok.lemma_ != '-PRON-' else tok.lower_ for tok in tokens]\n",
    "    tokens = [tok for tok in tokens if (tok not in stopwords and tok not in punctuations)]\n",
    "    return tokens\n",
    "\n",
    "vectorizer = CountVectorizer(analyzer='word', tokenizer=spacy_tokenizer)"
   ]
  },
  {
   "cell_type": "code",
   "execution_count": 9,
   "metadata": {},
   "outputs": [
    {
     "name": "stdout",
     "output_type": "stream",
     "text": [
      "Tokenizing training text documents...\n",
      "Time elapsed:  671.5140810012817\n",
      "Type of X_tok:  <class 'list'>\n",
      "Length of X_tok:  3321\n",
      "Length of first doc in X_tok:  4114\n"
     ]
    }
   ],
   "source": [
    "# Build tokenizer and tokenize all text using spacy tokenizer\n",
    "print('Tokenizing training text documents...')\n",
    "start = time()\n",
    "tokenizer_spacy = vectorizer.build_tokenizer()\n",
    "X_tok = [tokenizer_spacy(doc) for doc in text_train['Text']]  # text_train['Text']\n",
    "end = time()\n",
    "\n",
    "print('Time elapsed: ', end-start)\n",
    "print('Type of X_tok: ', type(X_tok))\n",
    "print('Length of X_tok: ', len(X_tok))\n",
    "print('Length of first doc in X_tok: ', len(X_tok[0]))"
   ]
  },
  {
   "cell_type": "code",
   "execution_count": 10,
   "metadata": {},
   "outputs": [
    {
     "name": "stdout",
     "output_type": "stream",
     "text": [
      "X_tok_proc type:  <class 'list'>\n",
      "Length of X_tok_proc:  3321\n",
      "Length of first document in X_tok_proc:  28621\n",
      "Length of second document in X_tok_proc:  25391\n",
      "Variable deleted\n"
     ]
    }
   ],
   "source": [
    "X_tok_proc = [' '.join(doc) for doc in X_tok]\n",
    "print('X_tok_proc type: ', type(X_tok_proc))\n",
    "print('Length of X_tok_proc: ', len(X_tok_proc))\n",
    "print('Length of first document in X_tok_proc: ', len(X_tok_proc[0]))\n",
    "print('Length of second document in X_tok_proc: ', len(X_tok_proc[1]))\n",
    "# Free up memory\n",
    "try:\n",
    "    del X_tok\n",
    "    print('Variable deleted')\n",
    "except NameError:\n",
    "    print('X_tok already deleted')"
   ]
  },
  {
   "cell_type": "code",
   "execution_count": 11,
   "metadata": {},
   "outputs": [
    {
     "name": "stderr",
     "output_type": "stream",
     "text": [
      "Using TensorFlow backend.\n"
     ]
    },
    {
     "name": "stdout",
     "output_type": "stream",
     "text": [
      "Found 164578 unique tokens in training set.\n"
     ]
    }
   ],
   "source": [
    "from keras.preprocessing.text import Tokenizer\n",
    "from keras.preprocessing.sequence import pad_sequences\n",
    "\n",
    "max_num_words = 2000\n",
    "\n",
    "tokenizer = Tokenizer(num_words=max_num_words)\n",
    "tokenizer.fit_on_texts(X_tok_proc)\n",
    "sequences = tokenizer.texts_to_sequences(X_tok_proc)\n",
    "\n",
    "# Uncomment when evaluating test set\n",
    "# tokenizer_test = Tokenizer(num_words=max_num_words)\n",
    "# tokenizer_test.fit_on_texts(X_tok_proc)\n",
    "# sequences_test = tokenizer_test.texts_to_sequences(X_tok_proc)\n",
    "\n",
    "word_index_train = tokenizer.word_index\n",
    "# word_index_test = tokenizer_test.word_index\n",
    "print('Found %s unique tokens in training set.' % len(word_index_train))\n",
    "# print('Found %s unique tokens in testing set.' % len(word_index_test))"
   ]
  },
  {
   "cell_type": "code",
   "execution_count": 16,
   "metadata": {},
   "outputs": [
    {
     "name": "stdout",
     "output_type": "stream",
     "text": [
      "Shape of data tensor: (3321, 1000)\n"
     ]
    }
   ],
   "source": [
    "# Pad the train/test sequences\n",
    "max_seq_len = 1000\n",
    "\n",
    "data = pad_sequences(sequences, maxlen=max_seq_len)\n",
    "# data_test = pad_sequences(sequences_test, maxlen=max_seq_len)\n",
    "\n",
    "print('Shape of data tensor:', data.shape)\n",
    "# print('Shape of data test tensor:', data_test.shape)"
   ]
  },
  {
   "cell_type": "code",
   "execution_count": 17,
   "metadata": {},
   "outputs": [
    {
     "name": "stdout",
     "output_type": "stream",
     "text": [
      "Shape of data tensor: (8577, 1000)\n"
     ]
    }
   ],
   "source": [
    "data, y_resampled = resample_data(data, variants_train['Class'])\n",
    "print('Shape of data tensor:', data.shape)"
   ]
  },
  {
   "cell_type": "code",
   "execution_count": 18,
   "metadata": {},
   "outputs": [
    {
     "name": "stdout",
     "output_type": "stream",
     "text": [
      "Shape of label tensor: (8577, 9)\n"
     ]
    }
   ],
   "source": [
    "labels = label_binarize(y_resampled, classes=[1, 2, 3, 4, 5, 6, 7, 8, 9])\n",
    "print('Shape of label tensor:', labels.shape)"
   ]
  },
  {
   "cell_type": "code",
   "execution_count": 19,
   "metadata": {},
   "outputs": [
    {
     "name": "stdout",
     "output_type": "stream",
     "text": [
      "[6053 3026 6174 4810 3224]\n"
     ]
    }
   ],
   "source": [
    "# Split data into train/val set\n",
    "\n",
    "indices = np.arange(data.shape[0])\n",
    "np.random.shuffle(indices)\n",
    "data = data[indices]\n",
    "labels = labels[indices]\n",
    "num_val_samples = int(0.2 * data.shape[0])\n",
    "print(indices[:5])\n",
    "\n",
    "X_train = data[:-num_val_samples]\n",
    "y_train = labels[:-num_val_samples]\n",
    "X_test = data[-num_val_samples:]\n",
    "y_test = labels[-num_val_samples:]\n"
   ]
  },
  {
   "cell_type": "markdown",
   "metadata": {},
   "source": [
    "### Creating Word Embeddings from Glove"
   ]
  },
  {
   "cell_type": "code",
   "execution_count": 20,
   "metadata": {},
   "outputs": [
    {
     "name": "stdout",
     "output_type": "stream",
     "text": [
      "Found 400000 word vectors.\n"
     ]
    }
   ],
   "source": [
    "import os\n",
    "\n",
    "glove_dir = 'glove/'\n",
    "embeddings_index = {}\n",
    "f = open(os.path.join(glove_dir, 'glove.6B.100d.txt'))\n",
    "for line in f:\n",
    "    values = line.split()\n",
    "    word = values[0]\n",
    "    coefs = np.asarray(values[1:], dtype='float32')\n",
    "    embeddings_index[word] = coefs\n",
    "f.close()\n",
    "\n",
    "print('Found %s word vectors.' % len(embeddings_index))"
   ]
  },
  {
   "cell_type": "code",
   "execution_count": 21,
   "metadata": {
    "collapsed": true
   },
   "outputs": [],
   "source": [
    "embedding_dim = 100 # Number of dimensions in glove txt file\n",
    "embedding_matrix = np.zeros((len(word_index_train) + 1, embedding_dim))\n",
    "for word, i in word_index_train.items():\n",
    "    embedding_vector = embeddings_index.get(word)\n",
    "    if embedding_vector is not None:\n",
    "        # Words not found in embeddings index will be all zeros\n",
    "        embedding_matrix[i] = embedding_vector"
   ]
  },
  {
   "cell_type": "markdown",
   "metadata": {},
   "source": [
    "### Define Keras Model\n",
    "---"
   ]
  },
  {
   "cell_type": "code",
   "execution_count": 22,
   "metadata": {
    "collapsed": true
   },
   "outputs": [],
   "source": [
    "embedding_layer = Embedding(len(word_index_train) + 1, embedding_dim,\n",
    "                            weights=[embedding_matrix],\n",
    "                            input_length=max_seq_len,\n",
    "                            trainable=False)"
   ]
  },
  {
   "cell_type": "code",
   "execution_count": 30,
   "metadata": {},
   "outputs": [
    {
     "name": "stdout",
     "output_type": "stream",
     "text": [
      "_________________________________________________________________\n",
      "Layer (type)                 Output Shape              Param #   \n",
      "=================================================================\n",
      "input_2 (InputLayer)         (None, 1000)              0         \n",
      "_________________________________________________________________\n",
      "embedding_1 (Embedding)      (None, 1000, 100)         16457900  \n",
      "_________________________________________________________________\n",
      "conv1d_3 (Conv1D)            (None, 996, 128)          64128     \n",
      "_________________________________________________________________\n",
      "max_pooling1d_2 (MaxPooling1 (None, 199, 128)          0         \n",
      "_________________________________________________________________\n",
      "conv1d_4 (Conv1D)            (None, 195, 128)          82048     \n",
      "_________________________________________________________________\n",
      "max_pooling1d_3 (MaxPooling1 (None, 39, 128)           0         \n",
      "_________________________________________________________________\n",
      "conv1d_5 (Conv1D)            (None, 35, 128)           82048     \n",
      "_________________________________________________________________\n",
      "max_pooling1d_4 (MaxPooling1 (None, 1, 128)            0         \n",
      "_________________________________________________________________\n",
      "flatten_1 (Flatten)          (None, 128)               0         \n",
      "_________________________________________________________________\n",
      "dense_3 (Dense)              (None, 128)               16512     \n",
      "_________________________________________________________________\n",
      "dense_4 (Dense)              (None, 9)                 1161      \n",
      "=================================================================\n",
      "Total params: 16,703,797\n",
      "Trainable params: 245,897\n",
      "Non-trainable params: 16,457,900\n",
      "_________________________________________________________________\n"
     ]
    }
   ],
   "source": [
    "# Keras model. Log loss: 3.01928\n",
    "# Kaggle LL: 7.54333\n",
    "sequence_input = Input(shape=(max_seq_len,), dtype='int32')\n",
    "embedded_sequences = embedding_layer(sequence_input)\n",
    "x = Conv1D(128, 5, activation='relu')(embedded_sequences)\n",
    "x = MaxPooling1D(5)(x)\n",
    "x = Conv1D(128, 5, activation='relu')(x)\n",
    "x = MaxPooling1D(5)(x)\n",
    "x = Conv1D(128, 5, activation='relu')(x)\n",
    "x = MaxPooling1D(35)(x)  # global max pooling\n",
    "x = Flatten()(x)\n",
    "x = Dense(128, activation='relu')(x)\n",
    "preds = Dense(9, activation='softmax')(x)\n",
    "\n",
    "model = Model(sequence_input, preds)\n",
    "\n",
    "'''\n",
    "# OG Log loss ~1.416. Log loss w/ 20 epochs ~1.20465. Log loss w/o trainable ~1.33426. Log loss w/ Dropout ~1.3740\n",
    "# Log loss w/ Dense layer at end ~1.3338. \n",
    "# Log loss w/ imbalanced-learn: ~1.866291\n",
    "_input = Input(shape=(max_seq_len,), dtype='int32')\n",
    "_embedding = Embedding(len(word_index_train) + 1, embedding_dim,\n",
    "                       input_length=max_seq_len)(_input)\n",
    "\n",
    "# each filter is (3 x 300 ) array of weights\n",
    "# window (kernel_size) is 3\n",
    "# so number of weights is (3 * 300 * 64)\n",
    "# each filter outputs a (200 / strides) x 1 transformation\n",
    "# padding is how we handle boundaries. include + pad, ignore, etc\n",
    "_conv_1 = Conv1D(64, 3, strides=1, padding='valid')(_embedding)\n",
    "\n",
    "#Cuts the size of the output in half, maxing over every 2 inputs\n",
    "_pool_1 = MaxPooling1D(pool_size=2)(_conv_1)\n",
    "_conv_2 = Conv1D(64, 3, padding='valid')(_pool_1)\n",
    "_pool_2 = GlobalMaxPooling1D()(_conv_2) \n",
    "_activation = Activation('relu')(_pool_2)\n",
    "_dense_1 = Dense(500, activation='relu')(_activation)\n",
    "\n",
    "output = Dense(9,  activation='softmax')(_dense_1)\n",
    "\n",
    "model = Model(inputs=_input, outputs=output)\n",
    "'''\n",
    "\n",
    "model.summary()"
   ]
  },
  {
   "cell_type": "code",
   "execution_count": 31,
   "metadata": {
    "collapsed": true
   },
   "outputs": [],
   "source": [
    "# Compile the model\n",
    "sgd = SGD(lr=0.01, momentum=0.9, nesterov=True)\n",
    "model.compile(loss='categorical_crossentropy',\n",
    "              optimizer=sgd,\n",
    "              metrics=['acc'])"
   ]
  },
  {
   "cell_type": "code",
   "execution_count": 32,
   "metadata": {},
   "outputs": [
    {
     "name": "stdout",
     "output_type": "stream",
     "text": [
      "Train on 5489 samples, validate on 1373 samples\n",
      "Epoch 1/35\n",
      "5472/5489 [============================>.] - ETA: 0s - loss: 1.9075 - acc: 0.3052Epoch 00000: val_loss improved from inf to 1.68602, saving model to saved_models/weights.best.conv.glove.35epochs.hdf5\n",
      "5489/5489 [==============================] - 85s - loss: 1.9071 - acc: 0.3055 - val_loss: 1.6860 - val_acc: 0.3831\n",
      "Epoch 2/35\n",
      "5472/5489 [============================>.] - ETA: 0s - loss: 1.4707 - acc: 0.4773Epoch 00001: val_loss improved from 1.68602 to 1.58339, saving model to saved_models/weights.best.conv.glove.35epochs.hdf5\n",
      "5489/5489 [==============================] - 92s - loss: 1.4708 - acc: 0.4770 - val_loss: 1.5834 - val_acc: 0.4916\n",
      "Epoch 3/35\n",
      "5472/5489 [============================>.] - ETA: 0s - loss: 1.2891 - acc: 0.5408Epoch 00002: val_loss did not improve\n",
      "5489/5489 [==============================] - 84s - loss: 1.2914 - acc: 0.5400 - val_loss: 1.6312 - val_acc: 0.4574\n",
      "Epoch 4/35\n",
      "5472/5489 [============================>.] - ETA: 0s - loss: 1.1742 - acc: 0.5894Epoch 00003: val_loss improved from 1.58339 to 1.36414, saving model to saved_models/weights.best.conv.glove.35epochs.hdf5\n",
      "5489/5489 [==============================] - 80s - loss: 1.1751 - acc: 0.5890 - val_loss: 1.3641 - val_acc: 0.5098\n",
      "Epoch 5/35\n",
      "5472/5489 [============================>.] - ETA: 0s - loss: 1.0633 - acc: 0.6374Epoch 00004: val_loss did not improve\n",
      "5489/5489 [==============================] - 79s - loss: 1.0638 - acc: 0.6371 - val_loss: 1.3667 - val_acc: 0.5084\n",
      "Epoch 6/35\n",
      "5472/5489 [============================>.] - ETA: 0s - loss: 0.9794 - acc: 0.6721Epoch 00005: val_loss did not improve\n",
      "5489/5489 [==============================] - 80s - loss: 0.9819 - acc: 0.6715 - val_loss: 1.6744 - val_acc: 0.4064\n",
      "Epoch 7/35\n",
      "5472/5489 [============================>.] - ETA: 0s - loss: 0.9124 - acc: 0.6882Epoch 00006: val_loss did not improve\n",
      "5489/5489 [==============================] - 80s - loss: 0.9128 - acc: 0.6879 - val_loss: 1.6085 - val_acc: 0.4698\n",
      "Epoch 8/35\n",
      "5472/5489 [============================>.] - ETA: 0s - loss: 0.8299 - acc: 0.7281Epoch 00007: val_loss did not improve\n",
      "5489/5489 [==============================] - 79s - loss: 0.8301 - acc: 0.7276 - val_loss: 1.6305 - val_acc: 0.4836\n",
      "Epoch 9/35\n",
      "5472/5489 [============================>.] - ETA: 0s - loss: 0.7572 - acc: 0.7516Epoch 00008: val_loss did not improve\n",
      "5489/5489 [==============================] - 85s - loss: 0.7563 - acc: 0.7520 - val_loss: 1.4462 - val_acc: 0.5390\n",
      "Epoch 10/35\n",
      "5472/5489 [============================>.] - ETA: 0s - loss: 0.6780 - acc: 0.7747Epoch 00009: val_loss did not improve\n",
      "5489/5489 [==============================] - 84s - loss: 0.6774 - acc: 0.7746 - val_loss: 1.4991 - val_acc: 0.5229\n",
      "Epoch 11/35\n",
      "5472/5489 [============================>.] - ETA: 0s - loss: 0.6196 - acc: 0.7970Epoch 00010: val_loss did not improve\n",
      "5489/5489 [==============================] - 83s - loss: 0.6208 - acc: 0.7965 - val_loss: 2.0824 - val_acc: 0.4122\n",
      "Epoch 12/35\n",
      "5472/5489 [============================>.] - ETA: 0s - loss: 0.5730 - acc: 0.8081Epoch 00011: val_loss did not improve\n",
      "5489/5489 [==============================] - 86s - loss: 0.5721 - acc: 0.8083 - val_loss: 1.8867 - val_acc: 0.5171\n",
      "Epoch 13/35\n",
      "5472/5489 [============================>.] - ETA: 0s - loss: 0.5372 - acc: 0.8216Epoch 00012: val_loss did not improve\n",
      "5489/5489 [==============================] - 84s - loss: 0.5375 - acc: 0.8216 - val_loss: 2.2866 - val_acc: 0.4945\n",
      "Epoch 14/35\n",
      "5472/5489 [============================>.] - ETA: 0s - loss: 0.5095 - acc: 0.8300Epoch 00013: val_loss did not improve\n",
      "5489/5489 [==============================] - 80s - loss: 0.5098 - acc: 0.8297 - val_loss: 1.6939 - val_acc: 0.4771\n",
      "Epoch 15/35\n",
      "5472/5489 [============================>.] - ETA: 0s - loss: 0.4514 - acc: 0.8430Epoch 00014: val_loss did not improve\n",
      "5489/5489 [==============================] - 79s - loss: 0.4519 - acc: 0.8428 - val_loss: 1.6969 - val_acc: 0.5208\n",
      "Epoch 16/35\n",
      "5472/5489 [============================>.] - ETA: 0s - loss: 0.4251 - acc: 0.8500Epoch 00015: val_loss did not improve\n",
      "5489/5489 [==============================] - 79s - loss: 0.4250 - acc: 0.8499 - val_loss: 2.2298 - val_acc: 0.4938\n",
      "Epoch 17/35\n",
      "5472/5489 [============================>.] - ETA: 0s - loss: 0.4429 - acc: 0.8425Epoch 00016: val_loss did not improve\n",
      "5489/5489 [==============================] - 80s - loss: 0.4441 - acc: 0.8419 - val_loss: 2.1323 - val_acc: 0.5135\n",
      "Epoch 18/35\n",
      "5472/5489 [============================>.] - ETA: 0s - loss: 0.4504 - acc: 0.8392Epoch 00017: val_loss did not improve\n",
      "5489/5489 [==============================] - 79s - loss: 0.4501 - acc: 0.8391 - val_loss: 2.3894 - val_acc: 0.4661\n",
      "Epoch 19/35\n",
      "5472/5489 [============================>.] - ETA: 0s - loss: 0.4260 - acc: 0.8445Epoch 00018: val_loss did not improve\n",
      "5489/5489 [==============================] - 79s - loss: 0.4258 - acc: 0.8446 - val_loss: 2.1731 - val_acc: 0.5120\n",
      "Epoch 20/35\n",
      "5472/5489 [============================>.] - ETA: 0s - loss: 0.4045 - acc: 0.8474Epoch 00019: val_loss did not improve\n",
      "5489/5489 [==============================] - 80s - loss: 0.4044 - acc: 0.8475 - val_loss: 2.1650 - val_acc: 0.5222\n",
      "Epoch 21/35\n",
      "5472/5489 [============================>.] - ETA: 0s - loss: 0.3790 - acc: 0.8598Epoch 00020: val_loss did not improve\n",
      "5489/5489 [==============================] - 79s - loss: 0.3787 - acc: 0.8599 - val_loss: 2.4666 - val_acc: 0.5295\n",
      "Epoch 22/35\n",
      "5472/5489 [============================>.] - ETA: 0s - loss: 0.3568 - acc: 0.8655Epoch 00021: val_loss did not improve\n",
      "5489/5489 [==============================] - 79s - loss: 0.3568 - acc: 0.8655 - val_loss: 2.2513 - val_acc: 0.4865\n",
      "Epoch 23/35\n",
      "5472/5489 [============================>.] - ETA: 0s - loss: 0.3398 - acc: 0.8739Epoch 00022: val_loss did not improve\n",
      "5489/5489 [==============================] - 84s - loss: 0.3409 - acc: 0.8736 - val_loss: 2.5992 - val_acc: 0.5237\n",
      "Epoch 24/35\n",
      "5472/5489 [============================>.] - ETA: 0s - loss: 0.3184 - acc: 0.8785Epoch 00023: val_loss did not improve\n",
      "5489/5489 [==============================] - 79s - loss: 0.3179 - acc: 0.8787 - val_loss: 2.9700 - val_acc: 0.5331\n",
      "Epoch 25/35\n",
      "5472/5489 [============================>.] - ETA: 0s - loss: 0.3398 - acc: 0.8681Epoch 00024: val_loss did not improve\n",
      "5489/5489 [==============================] - 80s - loss: 0.3404 - acc: 0.8677 - val_loss: 2.1879 - val_acc: 0.5288\n",
      "Epoch 26/35\n",
      "5472/5489 [============================>.] - ETA: 0s - loss: 0.3347 - acc: 0.8708Epoch 00025: val_loss did not improve\n",
      "5489/5489 [==============================] - 80s - loss: 0.3347 - acc: 0.8710 - val_loss: 2.4858 - val_acc: 0.4916\n",
      "Epoch 27/35\n",
      "5472/5489 [============================>.] - ETA: 0s - loss: 0.3627 - acc: 0.8639Epoch 00026: val_loss did not improve\n",
      "5489/5489 [==============================] - 80s - loss: 0.3636 - acc: 0.8635 - val_loss: 2.6021 - val_acc: 0.5113\n",
      "Epoch 28/35\n",
      "5472/5489 [============================>.] - ETA: 0s - loss: 0.3622 - acc: 0.8637Epoch 00027: val_loss did not improve\n",
      "5489/5489 [==============================] - 91s - loss: 0.3626 - acc: 0.8634 - val_loss: 2.9559 - val_acc: 0.5375\n",
      "Epoch 29/35\n",
      "5472/5489 [============================>.] - ETA: 0s - loss: 0.4105 - acc: 0.8518Epoch 00028: val_loss did not improve\n",
      "5489/5489 [==============================] - 88s - loss: 0.4099 - acc: 0.8521 - val_loss: 2.7184 - val_acc: 0.5229\n",
      "Epoch 30/35\n",
      "5472/5489 [============================>.] - ETA: 0s - loss: 0.4049 - acc: 0.8512Epoch 00029: val_loss did not improve\n",
      "5489/5489 [==============================] - 85s - loss: 0.4048 - acc: 0.8512 - val_loss: 2.6993 - val_acc: 0.5186\n",
      "Epoch 31/35\n",
      "5472/5489 [============================>.] - ETA: 0s - loss: 0.4163 - acc: 0.8494Epoch 00030: val_loss did not improve\n",
      "5489/5489 [==============================] - 86s - loss: 0.4166 - acc: 0.8493 - val_loss: 2.3718 - val_acc: 0.4960\n",
      "Epoch 32/35\n",
      "5472/5489 [============================>.] - ETA: 0s - loss: 0.3920 - acc: 0.8558Epoch 00031: val_loss did not improve\n",
      "5489/5489 [==============================] - 82s - loss: 0.3926 - acc: 0.8553 - val_loss: 2.5427 - val_acc: 0.5135\n",
      "Epoch 33/35\n",
      "5472/5489 [============================>.] - ETA: 0s - loss: 0.3672 - acc: 0.8589Epoch 00032: val_loss did not improve\n",
      "5489/5489 [==============================] - 82s - loss: 0.3668 - acc: 0.8590 - val_loss: 2.5407 - val_acc: 0.5178\n",
      "Epoch 34/35\n",
      "5472/5489 [============================>.] - ETA: 0s - loss: 0.3402 - acc: 0.8671Epoch 00033: val_loss did not improve\n",
      "5489/5489 [==============================] - 79s - loss: 0.3415 - acc: 0.8666 - val_loss: 2.8127 - val_acc: 0.4749\n",
      "Epoch 35/35\n",
      "5472/5489 [============================>.] - ETA: 0s - loss: 0.3095 - acc: 0.8761Epoch 00034: val_loss did not improve\n",
      "5489/5489 [==============================] - 79s - loss: 0.3090 - acc: 0.8763 - val_loss: 2.9293 - val_acc: 0.5186\n"
     ]
    }
   ],
   "source": [
    "# Load ModelCheckpoint function from keras to save best model\n",
    "# Save the best model as training data is fit to model\n",
    "checkpointer = ModelCheckpoint(filepath='saved_models/weights.best.conv.glove.35epochs.hdf5', \n",
    "                               verbose=1, save_best_only=True)\n",
    "\n",
    "# Define number of epochs\n",
    "epochs = 35\n",
    "\n",
    "estimator = model.fit(X_train, y_train, validation_split=0.2,\n",
    "                      epochs=epochs, batch_size=32,\n",
    "                      callbacks=[checkpointer], verbose=1)"
   ]
  },
  {
   "cell_type": "code",
   "execution_count": 19,
   "metadata": {
    "collapsed": true
   },
   "outputs": [],
   "source": [
    "model.load_weights('saved_models/weights.best.lstm.glove.35epochs.hdf5')"
   ]
  },
  {
   "cell_type": "code",
   "execution_count": 33,
   "metadata": {},
   "outputs": [
    {
     "name": "stdout",
     "output_type": "stream",
     "text": [
      "Training accuracy: 87.63% / Validation accuracy: 51.86%\n"
     ]
    }
   ],
   "source": [
    "print(\"Training accuracy: %.2f%% / Validation accuracy: %.2f%%\" % \n",
    "      (100*estimator.history['acc'][-1], 100*estimator.history['val_acc'][-1]))"
   ]
  },
  {
   "cell_type": "code",
   "execution_count": 34,
   "metadata": {},
   "outputs": [
    {
     "data": {
      "image/png": "[encoded data removed]",
      "text/plain": [
       "<matplotlib.figure.Figure at 0x14e3bbda0>"
      ]
     },
     "metadata": {},
     "output_type": "display_data"
    },
    {
     "data": {
      "image/png": "[encoded data removed]",
      "text/plain": [
       "<matplotlib.figure.Figure at 0x1448c0ef0>"
      ]
     },
     "metadata": {},
     "output_type": "display_data"
    }
   ],
   "source": [
    "# summarize history for accuracy\n",
    "plt.plot(estimator.history['acc'])\n",
    "plt.plot(estimator.history['val_acc'])\n",
    "plt.title('model accuracy')\n",
    "plt.ylabel('accuracy')\n",
    "plt.xlabel('epoch')\n",
    "plt.legend(['train', 'valid'], loc='upper left')\n",
    "plt.show()\n",
    "\n",
    "# summarize history for loss\n",
    "plt.plot(estimator.history['loss'])\n",
    "plt.plot(estimator.history['val_loss'])\n",
    "plt.title('model loss')\n",
    "plt.ylabel('loss')\n",
    "plt.xlabel('epoch')\n",
    "plt.legend(['train', 'valid'], loc='upper left')\n",
    "plt.show()"
   ]
  },
  {
   "cell_type": "code",
   "execution_count": 35,
   "metadata": {
    "collapsed": true
   },
   "outputs": [],
   "source": [
    "# Make predictions\n",
    "predicted_prob = model.predict(X_test)"
   ]
  },
  {
   "cell_type": "code",
   "execution_count": 56,
   "metadata": {},
   "outputs": [
    {
     "name": "stdout",
     "output_type": "stream",
     "text": [
      "(664, 9)\n"
     ]
    }
   ],
   "source": [
    "# Make sure output is shaped correctly\n",
    "print(predicted_prob.shape)"
   ]
  },
  {
   "cell_type": "code",
   "execution_count": 36,
   "metadata": {
    "scrolled": true
   },
   "outputs": [
    {
     "name": "stdout",
     "output_type": "stream",
     "text": [
      "SpaCy and Keras Results: \n",
      "Log loss is: 3.01928885747825\n"
     ]
    }
   ],
   "source": [
    "# Report log loss and score\n",
    "loss_sk = log_loss(y_test, predicted_prob)\n",
    "print('SpaCy and Keras Results: ')\n",
    "print('Log loss is: {}'.format(loss_sk))"
   ]
  },
  {
   "cell_type": "markdown",
   "metadata": {},
   "source": [
    "# Saving final probabilities to text file\n",
    "---\n",
    "The output of this code cell is a file named \"submission.txt\" and is ready for submission to Kaggle."
   ]
  },
  {
   "cell_type": "code",
   "execution_count": 38,
   "metadata": {},
   "outputs": [
    {
     "name": "stdout",
     "output_type": "stream",
     "text": [
      "(986, 9)\n"
     ]
    }
   ],
   "source": [
    "print(predicted_prob.shape)"
   ]
  },
  {
   "cell_type": "code",
   "execution_count": 41,
   "metadata": {
    "collapsed": true
   },
   "outputs": [],
   "source": [
    "# Save submission file\n",
    "with open('submission14.txt', 'w') as file_obj:\n",
    "    file_obj.write('ID,class1,class2,class3,class4,class5,class6,class7,class8,class9\\n')\n",
    "    for pred in range(len(predicted_prob)):\n",
    "        file_obj.write(str(pred+1) + ',' + ','.join('{:.2f}'.format(s) for s in predicted_prob[pred].tolist()) + '\\n')"
   ]
  },
  {
   "cell_type": "code",
   "execution_count": 62,
   "metadata": {
    "collapsed": true
   },
   "outputs": [],
   "source": [
    "# Save submission file for stage 2\n",
    "with open('submission24.csv', 'w') as file_obj:\n",
    "    file_obj.write('ID,class1,class2,class3,class4,class5,class6,class7,class8,class9\\n')\n",
    "    for pred in range(len(predicted_prob)):\n",
    "        file_obj.write(str(pred+1) + ',' + ','.join('{:.2f}'.format(s) for s in predicted_prob[pred].tolist()) + '\\n')"
   ]
  },
  {
   "cell_type": "markdown",
   "metadata": {
    "collapsed": true
   },
   "source": [
    "# Visualizing Log Loss Scores\n",
    "---"
   ]
  },
  {
   "cell_type": "code",
   "execution_count": 2,
   "metadata": {},
   "outputs": [
    {
     "data": {
      "text/html": [
       "<div>\n",
       "<style>\n",
       "    .dataframe thead tr:only-child th {\n",
       "        text-align: right;\n",
       "    }\n",
       "\n",
       "    .dataframe thead th {\n",
       "        text-align: left;\n",
       "    }\n",
       "\n",
       "    .dataframe tbody tr th {\n",
       "        vertical-align: top;\n",
       "    }\n",
       "</style>\n",
       "<table border=\"1\" class=\"dataframe\">\n",
       "  <thead>\n",
       "    <tr style=\"text-align: right;\">\n",
       "      <th></th>\n",
       "      <th>approach</th>\n",
       "      <th>architecture</th>\n",
       "      <th>score</th>\n",
       "      <th>score_type</th>\n",
       "    </tr>\n",
       "  </thead>\n",
       "  <tbody>\n",
       "    <tr>\n",
       "      <th>0</th>\n",
       "      <td>1</td>\n",
       "      <td>MultinomialNB</td>\n",
       "      <td>2.19720</td>\n",
       "      <td>sklearn</td>\n",
       "    </tr>\n",
       "    <tr>\n",
       "      <th>1</th>\n",
       "      <td>1</td>\n",
       "      <td>MultinomialNB</td>\n",
       "      <td>2.19722</td>\n",
       "      <td>sklearn w/ GridSearchCV</td>\n",
       "    </tr>\n",
       "    <tr>\n",
       "      <th>2</th>\n",
       "      <td>1</td>\n",
       "      <td>MultinomialNB</td>\n",
       "      <td>5.09670</td>\n",
       "      <td>Kaggle w/ GridSearchCV</td>\n",
       "    </tr>\n",
       "    <tr>\n",
       "      <th>3</th>\n",
       "      <td>1</td>\n",
       "      <td>MultinomialNB</td>\n",
       "      <td>7.33243</td>\n",
       "      <td>Kaggle</td>\n",
       "    </tr>\n",
       "    <tr>\n",
       "      <th>4</th>\n",
       "      <td>1</td>\n",
       "      <td>RandomForestClassifier</td>\n",
       "      <td>1.93720</td>\n",
       "      <td>sklearn</td>\n",
       "    </tr>\n",
       "  </tbody>\n",
       "</table>\n",
       "</div>"
      ],
      "text/plain": [
       "  approach            architecture    score               score_type\n",
       "0        1           MultinomialNB  2.19720                  sklearn\n",
       "1        1           MultinomialNB  2.19722  sklearn w/ GridSearchCV\n",
       "2        1           MultinomialNB  5.09670   Kaggle w/ GridSearchCV\n",
       "3        1           MultinomialNB  7.33243                   Kaggle\n",
       "4        1  RandomForestClassifier  1.93720                  sklearn"
      ]
     },
     "metadata": {},
     "output_type": "display_data"
    }
   ],
   "source": [
    "score = [2.1972, 2.19722, 5.09670, 7.33243,\n",
    "         1.9372, 2.98226,\n",
    "         1.397288, 2.47576,\n",
    "         2.10795, 1.44532, 2.96044,\n",
    "         1.77028, 2.04779,\n",
    "         0.65002, 19.45819,\n",
    "         1.86835, 1.95406,\n",
    "         1.8187873, 1.93370, 1.92953,\n",
    "         3.01928, 7.54333,\n",
    "         3.01928, 7.54333]\n",
    "architecture = ['MultinomialNB', 'MultinomialNB', 'MultinomialNB', 'MultinomialNB',\n",
    "                'RandomForestClassifier', 'RandomForestClassifier',\n",
    "                'MLP', 'MLP',\n",
    "                'CNN', 'CNN', 'CNN',\n",
    "                'LSTM', 'LSTM',\n",
    "                'MLP', 'MLP',\n",
    "                'CNN', 'CNN',\n",
    "                'LSTM', 'LSTM', 'LSTM',\n",
    "                'MLP', 'MLP',\n",
    "                'CNN', 'CNN']\n",
    "approach = ['1', '1', '1', '1', '1', '1', '2', '2', '2', '2', '2', '2', '2',\n",
    "            '3', '3', '3', '3', '3', '3', '3', '4', '4', '4', '4']\n",
    "score_type = ['sklearn', 'sklearn w/ GridSearchCV', 'Kaggle w/ GridSearchCV', 'Kaggle', # Approach 1: MultinomialNB\n",
    "              'sklearn', 'Kaggle',  # RandomForestClassifier\n",
    "              'sklearn w/ 25 epochs', 'Kaggle',  # Approach 2: MLP\n",
    "              'sklearn w/ 25 epochs', 'sklearn w/ 100 epochs', 'Kaggle',  # CNN\n",
    "              'sklearn w/ 25 epochs', 'Kaggle',  # LSTM\n",
    "              'sklearn', 'Kaggle',  # Approach 3: MLP\n",
    "              'sklearn', 'Kaggle',  # CNN\n",
    "              'sklearn w/ 2 layers', 'Kaggle w/ 2 layers', 'Kaggle 1-layer No Bidirectional', # LSTM\n",
    "              'sklearn', 'Kaggle',  # Approach 4: MLP\n",
    "              'sklearn', 'Kaggle']  # CNN\n",
    "\n",
    "data = pd.DataFrame({'score': score, 'architecture': architecture, 'approach': approach, 'score_type': score_type})\n",
    "display(data.head())"
   ]
  },
  {
   "cell_type": "code",
   "execution_count": 27,
   "metadata": {},
   "outputs": [
    {
     "data": {
      "image/png": "[encoded data removed]",
      "text/plain": [
       "<matplotlib.figure.Figure at 0x114c04400>"
      ]
     },
     "metadata": {},
     "output_type": "display_data"
    }
   ],
   "source": [
    "sns.barplot(x='approach', y='score', hue='architecture', data=data, ci=None)\n",
    "plt.show()"
   ]
  }
 ],
 "metadata": {
  "anaconda-cloud": {},
  "kernelspec": {
   "display_name": "Python 3",
   "language": "python",
   "name": "python3"
  },
  "language_info": {
   "codemirror_mode": {
    "name": "ipython",
    "version": 3
   },
   "file_extension": ".py",
   "mimetype": "text/x-python",
   "name": "python",
   "nbconvert_exporter": "python",
   "pygments_lexer": "ipython3",
   "version": "3.5.3"
  }
 },
 "nbformat": 4,
 "nbformat_minor": 1
}
